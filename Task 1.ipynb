{
 "cells": [
  {
   "cell_type": "code",
   "execution_count": 1,
   "id": "18d90708-706f-4051-b592-55240c2ed370",
   "metadata": {},
   "outputs": [],
   "source": [
    "import numpy as np\n",
    "import pandas as pd "
   ]
  },
  {
   "cell_type": "code",
   "execution_count": 2,
   "id": "f5112346-39c4-4bbe-b423-58665e8e27e8",
   "metadata": {},
   "outputs": [],
   "source": [
    "df=pd.read_csv('student_performance.csv')"
   ]
  },
  {
   "cell_type": "code",
   "execution_count": 3,
   "id": "1890e780-70af-40fa-b0e8-5c58bb1a172d",
   "metadata": {},
   "outputs": [
    {
     "data": {
      "text/html": [
       "<div>\n",
       "<style scoped>\n",
       "    .dataframe tbody tr th:only-of-type {\n",
       "        vertical-align: middle;\n",
       "    }\n",
       "\n",
       "    .dataframe tbody tr th {\n",
       "        vertical-align: top;\n",
       "    }\n",
       "\n",
       "    .dataframe thead th {\n",
       "        text-align: right;\n",
       "    }\n",
       "</style>\n",
       "<table border=\"1\" class=\"dataframe\">\n",
       "  <thead>\n",
       "    <tr style=\"text-align: right;\">\n",
       "      <th></th>\n",
       "      <th>student_id</th>\n",
       "      <th>age</th>\n",
       "      <th>gender</th>\n",
       "      <th>study_hours_per_day</th>\n",
       "      <th>social_media_hours</th>\n",
       "      <th>netflix_hours</th>\n",
       "      <th>part_time_job</th>\n",
       "      <th>attendance_percentage</th>\n",
       "      <th>sleep_hours</th>\n",
       "      <th>diet_quality</th>\n",
       "      <th>exercise_frequency</th>\n",
       "      <th>parental_education_level</th>\n",
       "      <th>internet_quality</th>\n",
       "      <th>mental_health_rating</th>\n",
       "      <th>extracurricular_participation</th>\n",
       "      <th>exam_score</th>\n",
       "    </tr>\n",
       "  </thead>\n",
       "  <tbody>\n",
       "    <tr>\n",
       "      <th>0</th>\n",
       "      <td>S1000</td>\n",
       "      <td>23</td>\n",
       "      <td>Female</td>\n",
       "      <td>0.0</td>\n",
       "      <td>1.2</td>\n",
       "      <td>1.1</td>\n",
       "      <td>No</td>\n",
       "      <td>85.0</td>\n",
       "      <td>8.0</td>\n",
       "      <td>Fair</td>\n",
       "      <td>6</td>\n",
       "      <td>Master</td>\n",
       "      <td>Average</td>\n",
       "      <td>8</td>\n",
       "      <td>Yes</td>\n",
       "      <td>56.2</td>\n",
       "    </tr>\n",
       "    <tr>\n",
       "      <th>1</th>\n",
       "      <td>S1001</td>\n",
       "      <td>20</td>\n",
       "      <td>Female</td>\n",
       "      <td>6.9</td>\n",
       "      <td>2.8</td>\n",
       "      <td>2.3</td>\n",
       "      <td>No</td>\n",
       "      <td>97.3</td>\n",
       "      <td>4.6</td>\n",
       "      <td>Good</td>\n",
       "      <td>6</td>\n",
       "      <td>High School</td>\n",
       "      <td>Average</td>\n",
       "      <td>8</td>\n",
       "      <td>No</td>\n",
       "      <td>100.0</td>\n",
       "    </tr>\n",
       "    <tr>\n",
       "      <th>2</th>\n",
       "      <td>S1002</td>\n",
       "      <td>21</td>\n",
       "      <td>Male</td>\n",
       "      <td>1.4</td>\n",
       "      <td>3.1</td>\n",
       "      <td>1.3</td>\n",
       "      <td>No</td>\n",
       "      <td>94.8</td>\n",
       "      <td>8.0</td>\n",
       "      <td>Poor</td>\n",
       "      <td>1</td>\n",
       "      <td>High School</td>\n",
       "      <td>Poor</td>\n",
       "      <td>1</td>\n",
       "      <td>No</td>\n",
       "      <td>34.3</td>\n",
       "    </tr>\n",
       "    <tr>\n",
       "      <th>3</th>\n",
       "      <td>S1003</td>\n",
       "      <td>23</td>\n",
       "      <td>Female</td>\n",
       "      <td>1.0</td>\n",
       "      <td>3.9</td>\n",
       "      <td>1.0</td>\n",
       "      <td>No</td>\n",
       "      <td>71.0</td>\n",
       "      <td>9.2</td>\n",
       "      <td>Poor</td>\n",
       "      <td>4</td>\n",
       "      <td>Master</td>\n",
       "      <td>Good</td>\n",
       "      <td>1</td>\n",
       "      <td>Yes</td>\n",
       "      <td>26.8</td>\n",
       "    </tr>\n",
       "    <tr>\n",
       "      <th>4</th>\n",
       "      <td>S1004</td>\n",
       "      <td>19</td>\n",
       "      <td>Female</td>\n",
       "      <td>5.0</td>\n",
       "      <td>4.4</td>\n",
       "      <td>0.5</td>\n",
       "      <td>No</td>\n",
       "      <td>90.9</td>\n",
       "      <td>4.9</td>\n",
       "      <td>Fair</td>\n",
       "      <td>3</td>\n",
       "      <td>Master</td>\n",
       "      <td>Good</td>\n",
       "      <td>1</td>\n",
       "      <td>No</td>\n",
       "      <td>66.4</td>\n",
       "    </tr>\n",
       "    <tr>\n",
       "      <th>...</th>\n",
       "      <td>...</td>\n",
       "      <td>...</td>\n",
       "      <td>...</td>\n",
       "      <td>...</td>\n",
       "      <td>...</td>\n",
       "      <td>...</td>\n",
       "      <td>...</td>\n",
       "      <td>...</td>\n",
       "      <td>...</td>\n",
       "      <td>...</td>\n",
       "      <td>...</td>\n",
       "      <td>...</td>\n",
       "      <td>...</td>\n",
       "      <td>...</td>\n",
       "      <td>...</td>\n",
       "      <td>...</td>\n",
       "    </tr>\n",
       "    <tr>\n",
       "      <th>995</th>\n",
       "      <td>S1995</td>\n",
       "      <td>21</td>\n",
       "      <td>Female</td>\n",
       "      <td>2.6</td>\n",
       "      <td>0.5</td>\n",
       "      <td>1.6</td>\n",
       "      <td>No</td>\n",
       "      <td>77.0</td>\n",
       "      <td>7.5</td>\n",
       "      <td>Fair</td>\n",
       "      <td>2</td>\n",
       "      <td>High School</td>\n",
       "      <td>Good</td>\n",
       "      <td>6</td>\n",
       "      <td>Yes</td>\n",
       "      <td>76.1</td>\n",
       "    </tr>\n",
       "    <tr>\n",
       "      <th>996</th>\n",
       "      <td>S1996</td>\n",
       "      <td>17</td>\n",
       "      <td>Female</td>\n",
       "      <td>2.9</td>\n",
       "      <td>1.0</td>\n",
       "      <td>2.4</td>\n",
       "      <td>Yes</td>\n",
       "      <td>86.0</td>\n",
       "      <td>6.8</td>\n",
       "      <td>Poor</td>\n",
       "      <td>1</td>\n",
       "      <td>High School</td>\n",
       "      <td>Average</td>\n",
       "      <td>6</td>\n",
       "      <td>Yes</td>\n",
       "      <td>65.9</td>\n",
       "    </tr>\n",
       "    <tr>\n",
       "      <th>997</th>\n",
       "      <td>S1997</td>\n",
       "      <td>20</td>\n",
       "      <td>Male</td>\n",
       "      <td>3.0</td>\n",
       "      <td>2.6</td>\n",
       "      <td>1.3</td>\n",
       "      <td>No</td>\n",
       "      <td>61.9</td>\n",
       "      <td>6.5</td>\n",
       "      <td>Good</td>\n",
       "      <td>5</td>\n",
       "      <td>Bachelor</td>\n",
       "      <td>Good</td>\n",
       "      <td>9</td>\n",
       "      <td>Yes</td>\n",
       "      <td>64.4</td>\n",
       "    </tr>\n",
       "    <tr>\n",
       "      <th>998</th>\n",
       "      <td>S1998</td>\n",
       "      <td>24</td>\n",
       "      <td>Male</td>\n",
       "      <td>5.4</td>\n",
       "      <td>4.1</td>\n",
       "      <td>1.1</td>\n",
       "      <td>Yes</td>\n",
       "      <td>100.0</td>\n",
       "      <td>7.6</td>\n",
       "      <td>Fair</td>\n",
       "      <td>0</td>\n",
       "      <td>Bachelor</td>\n",
       "      <td>Average</td>\n",
       "      <td>1</td>\n",
       "      <td>No</td>\n",
       "      <td>69.7</td>\n",
       "    </tr>\n",
       "    <tr>\n",
       "      <th>999</th>\n",
       "      <td>S1999</td>\n",
       "      <td>19</td>\n",
       "      <td>Female</td>\n",
       "      <td>4.3</td>\n",
       "      <td>2.9</td>\n",
       "      <td>1.9</td>\n",
       "      <td>No</td>\n",
       "      <td>89.4</td>\n",
       "      <td>7.1</td>\n",
       "      <td>Good</td>\n",
       "      <td>2</td>\n",
       "      <td>Bachelor</td>\n",
       "      <td>Average</td>\n",
       "      <td>8</td>\n",
       "      <td>No</td>\n",
       "      <td>74.9</td>\n",
       "    </tr>\n",
       "  </tbody>\n",
       "</table>\n",
       "<p>1000 rows × 16 columns</p>\n",
       "</div>"
      ],
      "text/plain": [
       "    student_id  age  gender  study_hours_per_day  social_media_hours  \\\n",
       "0        S1000   23  Female                  0.0                 1.2   \n",
       "1        S1001   20  Female                  6.9                 2.8   \n",
       "2        S1002   21    Male                  1.4                 3.1   \n",
       "3        S1003   23  Female                  1.0                 3.9   \n",
       "4        S1004   19  Female                  5.0                 4.4   \n",
       "..         ...  ...     ...                  ...                 ...   \n",
       "995      S1995   21  Female                  2.6                 0.5   \n",
       "996      S1996   17  Female                  2.9                 1.0   \n",
       "997      S1997   20    Male                  3.0                 2.6   \n",
       "998      S1998   24    Male                  5.4                 4.1   \n",
       "999      S1999   19  Female                  4.3                 2.9   \n",
       "\n",
       "     netflix_hours part_time_job  attendance_percentage  sleep_hours  \\\n",
       "0              1.1            No                   85.0          8.0   \n",
       "1              2.3            No                   97.3          4.6   \n",
       "2              1.3            No                   94.8          8.0   \n",
       "3              1.0            No                   71.0          9.2   \n",
       "4              0.5            No                   90.9          4.9   \n",
       "..             ...           ...                    ...          ...   \n",
       "995            1.6            No                   77.0          7.5   \n",
       "996            2.4           Yes                   86.0          6.8   \n",
       "997            1.3            No                   61.9          6.5   \n",
       "998            1.1           Yes                  100.0          7.6   \n",
       "999            1.9            No                   89.4          7.1   \n",
       "\n",
       "    diet_quality  exercise_frequency parental_education_level  \\\n",
       "0           Fair                   6                   Master   \n",
       "1           Good                   6              High School   \n",
       "2           Poor                   1              High School   \n",
       "3           Poor                   4                   Master   \n",
       "4           Fair                   3                   Master   \n",
       "..           ...                 ...                      ...   \n",
       "995         Fair                   2              High School   \n",
       "996         Poor                   1              High School   \n",
       "997         Good                   5                 Bachelor   \n",
       "998         Fair                   0                 Bachelor   \n",
       "999         Good                   2                 Bachelor   \n",
       "\n",
       "    internet_quality  mental_health_rating extracurricular_participation  \\\n",
       "0            Average                     8                           Yes   \n",
       "1            Average                     8                            No   \n",
       "2               Poor                     1                            No   \n",
       "3               Good                     1                           Yes   \n",
       "4               Good                     1                            No   \n",
       "..               ...                   ...                           ...   \n",
       "995             Good                     6                           Yes   \n",
       "996          Average                     6                           Yes   \n",
       "997             Good                     9                           Yes   \n",
       "998          Average                     1                            No   \n",
       "999          Average                     8                            No   \n",
       "\n",
       "     exam_score  \n",
       "0          56.2  \n",
       "1         100.0  \n",
       "2          34.3  \n",
       "3          26.8  \n",
       "4          66.4  \n",
       "..          ...  \n",
       "995        76.1  \n",
       "996        65.9  \n",
       "997        64.4  \n",
       "998        69.7  \n",
       "999        74.9  \n",
       "\n",
       "[1000 rows x 16 columns]"
      ]
     },
     "execution_count": 3,
     "metadata": {},
     "output_type": "execute_result"
    }
   ],
   "source": [
    "df"
   ]
  },
  {
   "cell_type": "code",
   "execution_count": 4,
   "id": "00cf3d2b-a6e1-40af-b654-79e19454eac4",
   "metadata": {},
   "outputs": [
    {
     "data": {
      "text/html": [
       "<div>\n",
       "<style scoped>\n",
       "    .dataframe tbody tr th:only-of-type {\n",
       "        vertical-align: middle;\n",
       "    }\n",
       "\n",
       "    .dataframe tbody tr th {\n",
       "        vertical-align: top;\n",
       "    }\n",
       "\n",
       "    .dataframe thead th {\n",
       "        text-align: right;\n",
       "    }\n",
       "</style>\n",
       "<table border=\"1\" class=\"dataframe\">\n",
       "  <thead>\n",
       "    <tr style=\"text-align: right;\">\n",
       "      <th></th>\n",
       "      <th>student_id</th>\n",
       "      <th>age</th>\n",
       "      <th>gender</th>\n",
       "      <th>study_hours_per_day</th>\n",
       "      <th>social_media_hours</th>\n",
       "      <th>netflix_hours</th>\n",
       "      <th>part_time_job</th>\n",
       "      <th>attendance_percentage</th>\n",
       "      <th>sleep_hours</th>\n",
       "      <th>diet_quality</th>\n",
       "      <th>exercise_frequency</th>\n",
       "      <th>parental_education_level</th>\n",
       "      <th>internet_quality</th>\n",
       "      <th>mental_health_rating</th>\n",
       "      <th>extracurricular_participation</th>\n",
       "      <th>exam_score</th>\n",
       "    </tr>\n",
       "  </thead>\n",
       "  <tbody>\n",
       "    <tr>\n",
       "      <th>25</th>\n",
       "      <td>S1025</td>\n",
       "      <td>22</td>\n",
       "      <td>Male</td>\n",
       "      <td>4.9</td>\n",
       "      <td>4.3</td>\n",
       "      <td>3.3</td>\n",
       "      <td>No</td>\n",
       "      <td>74.7</td>\n",
       "      <td>9.0</td>\n",
       "      <td>Fair</td>\n",
       "      <td>1</td>\n",
       "      <td>High School</td>\n",
       "      <td>Average</td>\n",
       "      <td>2</td>\n",
       "      <td>Yes</td>\n",
       "      <td>69.9</td>\n",
       "    </tr>\n",
       "    <tr>\n",
       "      <th>793</th>\n",
       "      <td>S1793</td>\n",
       "      <td>20</td>\n",
       "      <td>Female</td>\n",
       "      <td>2.5</td>\n",
       "      <td>4.3</td>\n",
       "      <td>2.4</td>\n",
       "      <td>No</td>\n",
       "      <td>84.5</td>\n",
       "      <td>8.6</td>\n",
       "      <td>Fair</td>\n",
       "      <td>3</td>\n",
       "      <td>Master</td>\n",
       "      <td>Good</td>\n",
       "      <td>3</td>\n",
       "      <td>No</td>\n",
       "      <td>49.4</td>\n",
       "    </tr>\n",
       "    <tr>\n",
       "      <th>203</th>\n",
       "      <td>S1203</td>\n",
       "      <td>17</td>\n",
       "      <td>Male</td>\n",
       "      <td>2.0</td>\n",
       "      <td>3.8</td>\n",
       "      <td>0.3</td>\n",
       "      <td>No</td>\n",
       "      <td>78.4</td>\n",
       "      <td>7.6</td>\n",
       "      <td>Fair</td>\n",
       "      <td>6</td>\n",
       "      <td>Master</td>\n",
       "      <td>Poor</td>\n",
       "      <td>5</td>\n",
       "      <td>No</td>\n",
       "      <td>58.5</td>\n",
       "    </tr>\n",
       "    <tr>\n",
       "      <th>136</th>\n",
       "      <td>S1136</td>\n",
       "      <td>17</td>\n",
       "      <td>Female</td>\n",
       "      <td>4.9</td>\n",
       "      <td>3.0</td>\n",
       "      <td>3.6</td>\n",
       "      <td>No</td>\n",
       "      <td>91.1</td>\n",
       "      <td>6.7</td>\n",
       "      <td>Good</td>\n",
       "      <td>1</td>\n",
       "      <td>Bachelor</td>\n",
       "      <td>Good</td>\n",
       "      <td>4</td>\n",
       "      <td>No</td>\n",
       "      <td>67.6</td>\n",
       "    </tr>\n",
       "    <tr>\n",
       "      <th>733</th>\n",
       "      <td>S1733</td>\n",
       "      <td>24</td>\n",
       "      <td>Male</td>\n",
       "      <td>3.3</td>\n",
       "      <td>2.8</td>\n",
       "      <td>0.0</td>\n",
       "      <td>No</td>\n",
       "      <td>98.3</td>\n",
       "      <td>7.3</td>\n",
       "      <td>Fair</td>\n",
       "      <td>2</td>\n",
       "      <td>Bachelor</td>\n",
       "      <td>Good</td>\n",
       "      <td>6</td>\n",
       "      <td>No</td>\n",
       "      <td>70.6</td>\n",
       "    </tr>\n",
       "    <tr>\n",
       "      <th>395</th>\n",
       "      <td>S1395</td>\n",
       "      <td>20</td>\n",
       "      <td>Male</td>\n",
       "      <td>4.1</td>\n",
       "      <td>3.1</td>\n",
       "      <td>1.8</td>\n",
       "      <td>No</td>\n",
       "      <td>82.5</td>\n",
       "      <td>4.9</td>\n",
       "      <td>Fair</td>\n",
       "      <td>4</td>\n",
       "      <td>High School</td>\n",
       "      <td>Good</td>\n",
       "      <td>8</td>\n",
       "      <td>No</td>\n",
       "      <td>77.8</td>\n",
       "    </tr>\n",
       "    <tr>\n",
       "      <th>612</th>\n",
       "      <td>S1612</td>\n",
       "      <td>20</td>\n",
       "      <td>Male</td>\n",
       "      <td>2.6</td>\n",
       "      <td>2.3</td>\n",
       "      <td>0.9</td>\n",
       "      <td>No</td>\n",
       "      <td>80.1</td>\n",
       "      <td>7.0</td>\n",
       "      <td>Fair</td>\n",
       "      <td>0</td>\n",
       "      <td>Master</td>\n",
       "      <td>Good</td>\n",
       "      <td>9</td>\n",
       "      <td>No</td>\n",
       "      <td>69.3</td>\n",
       "    </tr>\n",
       "    <tr>\n",
       "      <th>530</th>\n",
       "      <td>S1530</td>\n",
       "      <td>17</td>\n",
       "      <td>Male</td>\n",
       "      <td>4.4</td>\n",
       "      <td>1.3</td>\n",
       "      <td>2.4</td>\n",
       "      <td>No</td>\n",
       "      <td>87.9</td>\n",
       "      <td>5.5</td>\n",
       "      <td>Good</td>\n",
       "      <td>2</td>\n",
       "      <td>Master</td>\n",
       "      <td>Good</td>\n",
       "      <td>8</td>\n",
       "      <td>Yes</td>\n",
       "      <td>80.9</td>\n",
       "    </tr>\n",
       "    <tr>\n",
       "      <th>363</th>\n",
       "      <td>S1363</td>\n",
       "      <td>18</td>\n",
       "      <td>Male</td>\n",
       "      <td>2.1</td>\n",
       "      <td>2.1</td>\n",
       "      <td>3.6</td>\n",
       "      <td>No</td>\n",
       "      <td>87.8</td>\n",
       "      <td>5.8</td>\n",
       "      <td>Fair</td>\n",
       "      <td>5</td>\n",
       "      <td>Master</td>\n",
       "      <td>Poor</td>\n",
       "      <td>4</td>\n",
       "      <td>No</td>\n",
       "      <td>56.9</td>\n",
       "    </tr>\n",
       "    <tr>\n",
       "      <th>955</th>\n",
       "      <td>S1955</td>\n",
       "      <td>19</td>\n",
       "      <td>Female</td>\n",
       "      <td>2.7</td>\n",
       "      <td>2.8</td>\n",
       "      <td>1.4</td>\n",
       "      <td>Yes</td>\n",
       "      <td>92.2</td>\n",
       "      <td>10.0</td>\n",
       "      <td>Poor</td>\n",
       "      <td>3</td>\n",
       "      <td>High School</td>\n",
       "      <td>Average</td>\n",
       "      <td>8</td>\n",
       "      <td>No</td>\n",
       "      <td>86.9</td>\n",
       "    </tr>\n",
       "  </tbody>\n",
       "</table>\n",
       "</div>"
      ],
      "text/plain": [
       "    student_id  age  gender  study_hours_per_day  social_media_hours  \\\n",
       "25       S1025   22    Male                  4.9                 4.3   \n",
       "793      S1793   20  Female                  2.5                 4.3   \n",
       "203      S1203   17    Male                  2.0                 3.8   \n",
       "136      S1136   17  Female                  4.9                 3.0   \n",
       "733      S1733   24    Male                  3.3                 2.8   \n",
       "395      S1395   20    Male                  4.1                 3.1   \n",
       "612      S1612   20    Male                  2.6                 2.3   \n",
       "530      S1530   17    Male                  4.4                 1.3   \n",
       "363      S1363   18    Male                  2.1                 2.1   \n",
       "955      S1955   19  Female                  2.7                 2.8   \n",
       "\n",
       "     netflix_hours part_time_job  attendance_percentage  sleep_hours  \\\n",
       "25             3.3            No                   74.7          9.0   \n",
       "793            2.4            No                   84.5          8.6   \n",
       "203            0.3            No                   78.4          7.6   \n",
       "136            3.6            No                   91.1          6.7   \n",
       "733            0.0            No                   98.3          7.3   \n",
       "395            1.8            No                   82.5          4.9   \n",
       "612            0.9            No                   80.1          7.0   \n",
       "530            2.4            No                   87.9          5.5   \n",
       "363            3.6            No                   87.8          5.8   \n",
       "955            1.4           Yes                   92.2         10.0   \n",
       "\n",
       "    diet_quality  exercise_frequency parental_education_level  \\\n",
       "25          Fair                   1              High School   \n",
       "793         Fair                   3                   Master   \n",
       "203         Fair                   6                   Master   \n",
       "136         Good                   1                 Bachelor   \n",
       "733         Fair                   2                 Bachelor   \n",
       "395         Fair                   4              High School   \n",
       "612         Fair                   0                   Master   \n",
       "530         Good                   2                   Master   \n",
       "363         Fair                   5                   Master   \n",
       "955         Poor                   3              High School   \n",
       "\n",
       "    internet_quality  mental_health_rating extracurricular_participation  \\\n",
       "25           Average                     2                           Yes   \n",
       "793             Good                     3                            No   \n",
       "203             Poor                     5                            No   \n",
       "136             Good                     4                            No   \n",
       "733             Good                     6                            No   \n",
       "395             Good                     8                            No   \n",
       "612             Good                     9                            No   \n",
       "530             Good                     8                           Yes   \n",
       "363             Poor                     4                            No   \n",
       "955          Average                     8                            No   \n",
       "\n",
       "     exam_score  \n",
       "25         69.9  \n",
       "793        49.4  \n",
       "203        58.5  \n",
       "136        67.6  \n",
       "733        70.6  \n",
       "395        77.8  \n",
       "612        69.3  \n",
       "530        80.9  \n",
       "363        56.9  \n",
       "955        86.9  "
      ]
     },
     "execution_count": 4,
     "metadata": {},
     "output_type": "execute_result"
    }
   ],
   "source": [
    "df.sample(10)"
   ]
  },
  {
   "cell_type": "markdown",
   "id": "153c7e7a-0f99-4791-9328-c25096d64e09",
   "metadata": {},
   "source": [
    "# Q1: Total no of students :"
   ]
  },
  {
   "cell_type": "code",
   "execution_count": 17,
   "id": "2cef2938-f232-4c27-acc7-51a87672d533",
   "metadata": {},
   "outputs": [
    {
     "name": "stdout",
     "output_type": "stream",
     "text": [
      "No of students in this datasheet is :  1000\n"
     ]
    }
   ],
   "source": [
    "print(\"No of students in this datasheet is : \",df['student_id'].shape[0])"
   ]
  },
  {
   "cell_type": "markdown",
   "id": "2d08b39b-a6e5-41e5-a043-dc8b68f4c2eb",
   "metadata": {},
   "source": [
    "# Q2: Students who studied > 2 hours."
   ]
  },
  {
   "cell_type": "code",
   "execution_count": 18,
   "id": "28497391-df95-41b9-ae00-bb216ae41c31",
   "metadata": {},
   "outputs": [
    {
     "data": {
      "text/plain": [
       "846"
      ]
     },
     "execution_count": 18,
     "metadata": {},
     "output_type": "execute_result"
    }
   ],
   "source": [
    "mask=(df['study_hours_per_day']>2.0)\n",
    "df[mask].shape[0]"
   ]
  },
  {
   "cell_type": "markdown",
   "id": "24d5afd7-8c0b-4c79-80a4-2e89f8268a8c",
   "metadata": {},
   "source": [
    "# Q3: Students who passed"
   ]
  },
  {
   "cell_type": "code",
   "execution_count": 19,
   "id": "6b5b2494-8f1d-41fd-98a2-5e1eccc7e9b1",
   "metadata": {},
   "outputs": [],
   "source": [
    "# so lets assume the passing crieteria like:\n",
    "# attendance_percentage > 75.0\n",
    "# netflix_hours < 5.0\n",
    "# mental_health_rating> 3\n",
    "# exam _score >50"
   ]
  },
  {
   "cell_type": "code",
   "execution_count": 20,
   "id": "b8d1416e-1ba7-47fc-a826-07dbce51f457",
   "metadata": {},
   "outputs": [
    {
     "data": {
      "text/plain": [
       "18.4"
      ]
     },
     "execution_count": 20,
     "metadata": {},
     "output_type": "execute_result"
    }
   ],
   "source": [
    "df['exam_score'].min()"
   ]
  },
  {
   "cell_type": "code",
   "execution_count": 21,
   "id": "50444054-cbe7-4cc8-bef0-5731b3495a63",
   "metadata": {},
   "outputs": [
    {
     "data": {
      "text/plain": [
       "573"
      ]
     },
     "execution_count": 21,
     "metadata": {},
     "output_type": "execute_result"
    }
   ],
   "source": [
    "passing_marks=35;\n",
    "mask1=df['attendance_percentage']>75.0\n",
    "mask2=df['netflix_hours']< 5.0\n",
    "mask3=df['mental_health_rating']>3\n",
    "mask4=df['exam_score']>35.0\n",
    "df_1=df[mask1 & mask2 & mask3 & mask4]\n",
    "df_1.shape[0]"
   ]
  },
  {
   "cell_type": "markdown",
   "id": "99d21ba3-2929-4752-80fa-10706f3919a8",
   "metadata": {},
   "source": [
    "# Q4: Students who studied > 2 hours and passed"
   ]
  },
  {
   "cell_type": "code",
   "execution_count": 24,
   "id": "a0166f54-7a13-4716-9926-c4ec9198b6fe",
   "metadata": {},
   "outputs": [
    {
     "data": {
      "text/plain": [
       "482"
      ]
     },
     "execution_count": 24,
     "metadata": {},
     "output_type": "execute_result"
    }
   ],
   "source": [
    "df_2=df_1[df_1['study_hours_per_day']>2.0]\n",
    "df_2.shape[0]"
   ]
  },
  {
   "cell_type": "markdown",
   "id": "4ada8cf6-8a31-423a-9737-8bee1ac2552f",
   "metadata": {},
   "source": [
    "# Q5: Percentage of students who passed among those who studied > 2 hours"
   ]
  },
  {
   "cell_type": "code",
   "execution_count": 27,
   "id": "41e8fcff-4fd9-4761-b551-718dd1d79139",
   "metadata": {},
   "outputs": [],
   "source": [
    "df_3=df[df['study_hours_per_day']>2.0]"
   ]
  },
  {
   "cell_type": "code",
   "execution_count": 28,
   "id": "e6a27281-2e64-4968-a368-834bd8d8ded9",
   "metadata": {},
   "outputs": [
    {
     "name": "stdout",
     "output_type": "stream",
     "text": [
      "NO of Students who studied > 2 hours is :  846\n"
     ]
    }
   ],
   "source": [
    "print(\"NO of Students who studied > 2 hours is : \",df_3.shape[0])"
   ]
  },
  {
   "cell_type": "code",
   "execution_count": 29,
   "id": "f3497a29-3a22-4cd5-a116-6e7e34a3996a",
   "metadata": {},
   "outputs": [
    {
     "name": "stdout",
     "output_type": "stream",
     "text": [
      "Students Who studied 2 hrs and also passesd:  482\n"
     ]
    }
   ],
   "source": [
    "print(\"Students Who studied 2 hrs and also passesd: \",df_2.shape[0])"
   ]
  },
  {
   "cell_type": "code",
   "execution_count": 30,
   "id": "6e200dd1-43fc-45a3-9d0e-97385e5a7044",
   "metadata": {},
   "outputs": [
    {
     "name": "stdout",
     "output_type": "stream",
     "text": [
      "Percentage of students who passed among those who studied > 2 hours:  56.973995271867615\n"
     ]
    }
   ],
   "source": [
    "print(\"Percentage of students who passed among those who studied > 2 hours: \",(df_2.shape[0])/(df_3.shape[0])*100)"
   ]
  },
  {
   "cell_type": "markdown",
   "id": "52b4a74d-4f49-4dd2-8ee3-7433edaaf735",
   "metadata": {},
   "source": [
    "# Q6: Use Bayes Theorem to compute:\n",
    "➤ Probability that a student studied > 2h given they passed\n"
   ]
  },
  {
   "cell_type": "code",
   "execution_count": 31,
   "id": "0a38e153-a822-41e7-923a-9c4dc96d47eb",
   "metadata": {},
   "outputs": [],
   "source": [
    "# bayers theorem is : p(a/b)=p(a intersection b)/p(b)"
   ]
  },
  {
   "cell_type": "code",
   "execution_count": 40,
   "id": "c726bd95-2a41-457c-bb86-801ad1ae24de",
   "metadata": {},
   "outputs": [
    {
     "name": "stdout",
     "output_type": "stream",
     "text": [
      "probability that a student passed is : p(b)= 0.573\n"
     ]
    }
   ],
   "source": [
    "x= (df_1.shape[0])/df.shape[0]\n",
    "print(\"probability that a student passed is : p(b)=\",x)"
   ]
  },
  {
   "cell_type": "code",
   "execution_count": 41,
   "id": "6476e142-8e95-46e0-9f40-840a8c658ab5",
   "metadata": {},
   "outputs": [
    {
     "name": "stdout",
     "output_type": "stream",
     "text": [
      "probability that a student passed and also had studied 2 hrs: p(a intersection b)= 0.482\n"
     ]
    }
   ],
   "source": [
    "y=(df_2.shape[0])/(df.shape[0])\n",
    "print(\"probability that a student passed and also had studied 2 hrs: p(a intersection b)=\",y)"
   ]
  },
  {
   "cell_type": "code",
   "execution_count": 42,
   "id": "28cee6ba-22e9-4303-9742-8f13c6e0f670",
   "metadata": {},
   "outputs": [
    {
     "name": "stdout",
     "output_type": "stream",
     "text": [
      "Probability that a student studied > 2h given they passed:->  p(a intersection b)/p(b)= 0.8411867364746947\n"
     ]
    }
   ],
   "source": [
    "print(\"Probability that a student studied > 2h given they passed:->  p(a intersection b)/p(b)=\", y/x)"
   ]
  },
  {
   "cell_type": "code",
   "execution_count": null,
   "id": "1c8f4607-7679-4ca3-8bbc-bc419badc25e",
   "metadata": {},
   "outputs": [],
   "source": []
  }
 ],
 "metadata": {
  "kernelspec": {
   "display_name": "Python [conda env:base] *",
   "language": "python",
   "name": "conda-base-py"
  },
  "language_info": {
   "codemirror_mode": {
    "name": "ipython",
    "version": 3
   },
   "file_extension": ".py",
   "mimetype": "text/x-python",
   "name": "python",
   "nbconvert_exporter": "python",
   "pygments_lexer": "ipython3",
   "version": "3.12.7"
  }
 },
 "nbformat": 4,
 "nbformat_minor": 5
}
