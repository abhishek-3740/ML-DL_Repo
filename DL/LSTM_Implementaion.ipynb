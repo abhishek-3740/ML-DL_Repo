{
  "nbformat": 4,
  "nbformat_minor": 0,
  "metadata": {
    "colab": {
      "provenance": []
    },
    "kernelspec": {
      "name": "python3",
      "display_name": "Python 3"
    },
    "language_info": {
      "name": "python"
    }
  },
  "cells": [
    {
      "cell_type": "markdown",
      "source": [
        "![image.png](data:image/png;base64,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)"
      ],
      "metadata": {
        "id": "M-qGwcXsbyx-"
      }
    },
    {
      "cell_type": "code",
      "source": [
        "import torch\n",
        "import torch.nn as nn\n",
        "import numpy as np"
      ],
      "metadata": {
        "id": "HYp4rGcD4YCE"
      },
      "execution_count": 1,
      "outputs": []
    },
    {
      "cell_type": "code",
      "source": [
        "class SimpleLSTM(nn.Module):\n",
        "    \"\"\"Minimal LSTM implementation to understand the core concept.\"\"\"\n",
        "\n",
        "    def __init__(self, input_size, hidden_size):\n",
        "        super(SimpleLSTM, self).__init__()\n",
        "        self.hidden_size = hidden_size\n",
        "\n",
        "        # Combined weight matrix for all gates (more efficient)\n",
        "        # Contains: [forget, input, candidate, output] gates\n",
        "        self.weight_ih = nn.Linear(input_size, 4 * hidden_size)  # input to hidden\n",
        "        self.weight_hh = nn.Linear(hidden_size, 4 * hidden_size)  # hidden to hidden\n",
        "\n",
        "    def forward(self, x, hidden=None):\n",
        "        \"\"\"\n",
        "        x: (batch_size, seq_length, input_size)\n",
        "        hidden: tuple of (h, c) or None\n",
        "        \"\"\"\n",
        "        batch_size, seq_length, _ = x.size()\n",
        "\n",
        "        # Initialize hidden state and cell state\n",
        "        if hidden is None:\n",
        "            h = torch.zeros(batch_size, self.hidden_size)\n",
        "            c = torch.zeros(batch_size, self.hidden_size)\n",
        "        else:\n",
        "            h, c = hidden\n",
        "\n",
        "        outputs = []\n",
        "\n",
        "        # Process sequence step by step\n",
        "        for t in range(seq_length):\n",
        "            x_t = x[:, t, :]  # Get input at time t\n",
        "\n",
        "            # Compute all gates at once\n",
        "            gates = self.weight_ih(x_t) + self.weight_hh(h)\n",
        "\n",
        "            # Split into 4 gates\n",
        "            f_gate, i_gate, c_gate, o_gate = gates.chunk(4, dim=1)\n",
        "\n",
        "            # Apply activations\n",
        "            f_gate = torch.sigmoid(f_gate)  # Forget gate\n",
        "            i_gate = torch.sigmoid(i_gate)  # Input gate\n",
        "            c_gate = torch.tanh(c_gate)     # Candidate cell state\n",
        "            o_gate = torch.sigmoid(o_gate)  # Output gate\n",
        "\n",
        "            # Update cell state\n",
        "            c = f_gate * c + i_gate * c_gate\n",
        "\n",
        "            # Update hidden state\n",
        "            h = o_gate * torch.tanh(c)\n",
        "\n",
        "            outputs.append(h)\n",
        "\n",
        "        # Stack all outputs\n",
        "        output = torch.stack(outputs, dim=1)  # (batch_size, seq_length, hidden_size)\n",
        "\n",
        "        return output, (h, c)    # ouput ha all the h states , and (h,c)-> the last hidden and cell state."
      ],
      "metadata": {
        "id": "2_Q78kHd4aqj"
      },
      "execution_count": 2,
      "outputs": []
    },
    {
      "cell_type": "code",
      "source": [
        "class LSTMClassifier(nn.Module):\n",
        "    def __init__(self, input_size, hidden_size, num_classes):\n",
        "        super(LSTMClassifier, self).__init__()\n",
        "        self.lstm = SimpleLSTM(input_size, hidden_size)\n",
        "        self.fc = nn.Linear(hidden_size, num_classes)\n",
        "\n",
        "    def forward(self, x):\n",
        "        # Get LSTM output\n",
        "        lstm_out, (h_final, c_final) = self.lstm(x)\n",
        "\n",
        "        # Use final hidden state for classification\n",
        "        output = self.fc(h_final)\n",
        "        return output"
      ],
      "metadata": {
        "id": "30-VVG8E4dWs"
      },
      "execution_count": 3,
      "outputs": []
    },
    {
      "cell_type": "code",
      "source": [
        "\n",
        "def generate_data(num_samples=100, seq_length=100):\n",
        "    \"\"\"Generate simple sequences for classification.\"\"\"\n",
        "    X = []\n",
        "    y = []\n",
        "\n",
        "    for _ in range(num_samples):\n",
        "        if np.random.rand() > 0.5:\n",
        "            # Increasing sequence\n",
        "            seq = np.sort(np.random.randn(seq_length))\n",
        "            label = 1\n",
        "        else:\n",
        "            # Decreasing sequence\n",
        "            seq = np.sort(np.random.randn(seq_length))[::-1]\n",
        "            label = 0\n",
        "\n",
        "        X.append(seq.reshape(-1, 1))  # Shape: (seq_length, 1)\n",
        "        y.append(label)\n",
        "\n",
        "    return torch.FloatTensor(np.array(X)), torch.LongTensor(np.array(y))"
      ],
      "metadata": {
        "id": "q5ZSLrXr4fPA"
      },
      "execution_count": 4,
      "outputs": []
    },
    {
      "cell_type": "code",
      "source": [
        "print(\"Generating data...\")\n",
        "X_train, y_train = generate_data(num_samples=1000, seq_length=10)\n",
        "X_test, y_test = generate_data(num_samples=200, seq_length=10)\n",
        "\n",
        "print(f\"Training data shape: {X_train.shape}\")\n",
        "print(f\"Training labels shape: {y_train.shape}\")\n",
        "\n",
        "# Create model\n",
        "model = LSTMClassifier(input_size=1, hidden_size=20, num_classes=2)\n",
        "criterion = nn.CrossEntropyLoss()\n",
        "optimizer = torch.optim.Adam(model.parameters(), lr=0.01)\n",
        "\n",
        "# Training loop\n",
        "print(\"\\nTraining...\")\n",
        "num_epochs = 30\n",
        "batch_size = 32\n",
        "\n",
        "for epoch in range(num_epochs):\n",
        "    # Simple batching\n",
        "    indices = torch.randperm(len(X_train))\n",
        "\n",
        "    epoch_loss = 0\n",
        "    correct = 0\n",
        "    total = 0\n",
        "\n",
        "    for i in range(0, len(X_train), batch_size):\n",
        "        batch_indices = indices[i:i+batch_size]\n",
        "        batch_X = X_train[batch_indices]\n",
        "        batch_y = y_train[batch_indices]\n",
        "\n",
        "        # Forward pass\n",
        "        outputs = model(batch_X)\n",
        "        loss = criterion(outputs, batch_y)\n",
        "\n",
        "        # Backward pass\n",
        "        optimizer.zero_grad()\n",
        "        loss.backward()\n",
        "        optimizer.step()\n",
        "\n",
        "        # Calculate accuracy\n",
        "        _, predicted = torch.max(outputs, 1)\n",
        "        total += batch_y.size(0)\n",
        "        correct += (predicted == batch_y).sum().item()\n",
        "        epoch_loss += loss.item()\n",
        "\n",
        "    # Print progress every 5 epochs\n",
        "    if (epoch + 1) % 5 == 0:\n",
        "        accuracy = 100 * correct / total\n",
        "        avg_loss = epoch_loss / (len(X_train) // batch_size)\n",
        "        print(f'Epoch [{epoch+1}/{num_epochs}], Loss: {avg_loss:.4f}, Accuracy: {accuracy:.2f}%')"
      ],
      "metadata": {
        "colab": {
          "base_uri": "https://localhost:8080/"
        },
        "id": "3KGoXPpS4i6q",
        "outputId": "c9ffd137-aa35-4056-83a4-24a9e4bf4e4d"
      },
      "execution_count": 5,
      "outputs": [
        {
          "output_type": "stream",
          "name": "stdout",
          "text": [
            "Generating data...\n",
            "Training data shape: torch.Size([1000, 10, 1])\n",
            "Training labels shape: torch.Size([1000])\n",
            "\n",
            "Training...\n",
            "Epoch [5/30], Loss: 0.0006, Accuracy: 100.00%\n",
            "Epoch [10/30], Loss: 0.0003, Accuracy: 100.00%\n",
            "Epoch [15/30], Loss: 0.0002, Accuracy: 100.00%\n",
            "Epoch [20/30], Loss: 0.0001, Accuracy: 100.00%\n",
            "Epoch [25/30], Loss: 0.0001, Accuracy: 100.00%\n",
            "Epoch [30/30], Loss: 0.0000, Accuracy: 100.00%\n"
          ]
        }
      ]
    },
    {
      "cell_type": "code",
      "source": [
        "# Test the model\n",
        "print(\"\\nTesting...\")\n",
        "model.eval()\n",
        "with torch.no_grad():\n",
        "    test_outputs = model(X_test)\n",
        "    _, predicted = torch.max(test_outputs, 1)\n",
        "    test_accuracy = 100 * (predicted == y_test).sum().item() / len(y_test)\n",
        "    print(f'Test Accuracy: {test_accuracy:.2f}%')\n",
        "\n",
        "# Example prediction\n",
        "print(\"\\n\" + \"=\"*60)\n",
        "print(\"EXAMPLE PREDICTIONS\")\n",
        "print(\"=\"*60)\n",
        "\n",
        "with torch.no_grad():\n",
        "    # Test on a few examples\n",
        "    for i in range(3):\n",
        "        example = X_test[i:i+1]\n",
        "        label = y_test[i].item()\n",
        "        output = model(example)\n",
        "        _, pred = torch.max(output, 1)\n",
        "\n",
        "        print(f\"\\nSequence {i+1}: {example.squeeze().numpy().flatten()[:5]}... \")\n",
        "        print(f\"True label: {'Increasing' if label == 1 else 'Decreasing'}\")\n",
        "        print(f\"Predicted: {'Increasing' if pred.item() == 1 else 'Decreasing'}\")\n",
        "        print(f\"Confidence: {torch.softmax(output, dim=1).max().item():.2%}\")"
      ],
      "metadata": {
        "colab": {
          "base_uri": "https://localhost:8080/"
        },
        "id": "RtC0_Gx64lxO",
        "outputId": "dc7bf0c6-a092-4297-df3d-194682e9c3ad"
      },
      "execution_count": 7,
      "outputs": [
        {
          "output_type": "stream",
          "name": "stdout",
          "text": [
            "\n",
            "Testing...\n",
            "Test Accuracy: 100.00%\n",
            "\n",
            "============================================================\n",
            "EXAMPLE PREDICTIONS\n",
            "============================================================\n",
            "\n",
            "Sequence 1: [-0.94860584 -0.78857666 -0.22524212 -0.05221995  0.1620921 ]... \n",
            "True label: Increasing\n",
            "Predicted: Increasing\n",
            "Confidence: 99.99%\n",
            "\n",
            "Sequence 2: [-2.4404335 -2.335303  -1.0011495 -0.9816484 -0.7903641]... \n",
            "True label: Increasing\n",
            "Predicted: Increasing\n",
            "Confidence: 99.99%\n",
            "\n",
            "Sequence 3: [ 2.530491    1.7420883   0.59598255  0.58279306 -0.08731031]... \n",
            "True label: Decreasing\n",
            "Predicted: Decreasing\n",
            "Confidence: 100.00%\n"
          ]
        }
      ]
    },
    {
      "cell_type": "code",
      "source": [],
      "metadata": {
        "id": "XUWGyiRx5clf"
      },
      "execution_count": null,
      "outputs": []
    }
  ]
}