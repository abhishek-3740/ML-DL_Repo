{
  "nbformat": 4,
  "nbformat_minor": 0,
  "metadata": {
    "colab": {
      "provenance": []
    },
    "kernelspec": {
      "name": "python3",
      "display_name": "Python 3"
    },
    "language_info": {
      "name": "python"
    }
  },
  "cells": [
    {
      "cell_type": "code",
      "execution_count": null,
      "metadata": {
        "id": "jkhC8dM08Ux-"
      },
      "outputs": [],
      "source": [
        "#Language Modelling(Transformers)  -> predict next word in Sequence based on the context of previous work.\n",
        "# Unsupervised -> convert them into Supervised data by seperating the input and output part of the sentences\n"
      ]
    },
    {
      "cell_type": "code",
      "source": [
        "!pip install nltk  #(Tokenization)"
      ],
      "metadata": {
        "colab": {
          "base_uri": "https://localhost:8080/"
        },
        "id": "FoFP9zIT89_c",
        "outputId": "09eb2013-f252-430c-c6e7-dbdfe1c0e6c0"
      },
      "execution_count": null,
      "outputs": [
        {
          "output_type": "stream",
          "name": "stdout",
          "text": [
            "Requirement already satisfied: nltk in /usr/local/lib/python3.12/dist-packages (3.9.1)\n",
            "Requirement already satisfied: click in /usr/local/lib/python3.12/dist-packages (from nltk) (8.2.1)\n",
            "Requirement already satisfied: joblib in /usr/local/lib/python3.12/dist-packages (from nltk) (1.5.1)\n",
            "Requirement already satisfied: regex>=2021.8.3 in /usr/local/lib/python3.12/dist-packages (from nltk) (2024.11.6)\n",
            "Requirement already satisfied: tqdm in /usr/local/lib/python3.12/dist-packages (from nltk) (4.67.1)\n"
          ]
        }
      ]
    },
    {
      "cell_type": "code",
      "source": [
        "import torch\n",
        "import torch.nn as nn\n",
        "import torch.optim as optim\n",
        "import numpy as np\n",
        "from collections import Counter\n",
        "from torch.utils.data import Dataset, DataLoader\n",
        "from nltk.tokenize import word_tokenize\n",
        "import nltk"
      ],
      "metadata": {
        "id": "LU1-uZf5-oQE"
      },
      "execution_count": null,
      "outputs": []
    },
    {
      "cell_type": "code",
      "source": [
        "document = \"\"\"About the Program\n",
        "What is the course fee for Data Science Mentorship Program (DSMP 2.0)\n",
        "The total course fee for the DSMP course is Rs 10,600. This includes the fee for both DSMP 1.0 and DSMP 2.0\n",
        "What is the total duration of the course?\n",
        "The total duration of the course is about 6-8 months.\n",
        "Are Deep Learning and NLP a part of the DSMP 2.0 course?\n",
        "No, NLP and Deep Learning both are not a part of this program’s curriculum.\n",
        "What if I miss a live session? Will I get a recording of the session?\n",
        "Yes, all our sessions are recorded, so even if you miss a session you can login into our portal and watch the recording as per your convenience.\n",
        "Where can I find the class schedule?\n",
        "You will find the class schedule in your course dashboard once you enroll for the course.\n",
        "What is the time duration of all the live sessions?\n",
        "Roughly, all the sessions last 2 hours.\n",
        "What is the language spoken by the instructor during the sessions?\n",
        "Hinglish.\n",
        "How will I be informed about the upcoming class?\n",
        "You will get mail from our side before every session once you enroll in the course.\n",
        "Can I do this course if I am from a non-tech background?\n",
        "Yes, absolutely. However, you’ll need to be consistent.\n",
        "I am late, can I join the program in the middle?\n",
        "Absolutely, you can join the program any time.\n",
        "If I join/pay in the middle, will I be able to see all the past lectures?\n",
        "Yes, once you’re enrolled in the course, you will be able to see all the past content in your dashboard.\n",
        "Where do I have to submit the task?\n",
        "You don’t have to submit the task. We will provide you with the solutions, you have to self evaluate the task yourself.\n",
        "Will we do case studies in the program?\n",
        "Yes, there are 5 end to end case studies and multiple smaller projects.\n",
        "Do we offer any student discounts or promo codes?\n",
        "We do offer discounts on our courses a few times a year, and we announce them through our social media channels.\n",
        "On how many devices can I watch the videos simultaneously?\n",
        "You can watch the videos on one device at a time.\n",
        "Do you provide notes for the lectures?\n",
        "We do not provide notes for our lectures. We encourage students to make their own notes as it aids in study retention.\n",
        "What is the difference between being a paid member on your YouTube channel and your website?\n",
        "While the content on our YouTube channel and website is similar, enrolling through our website offers additional benefits such as doubt clearance support and access to an exclusive community of learners on Discord and more.\n",
        "Do I get access to your YouTube channel as a paid member after enrolling through your website?\n",
        "No, the YouTube channel membership is separate from what we offer on our website.\n",
        "Is there any upcoming batch for the Data Science Mentorship Program?\n",
        "Currently, we do not have any plans to launch a new batch for DSMP. However, all previous lectures are available as recordings, allowing you to learn at your own pace.\n",
        "Do you provide doubt clearance for the projects uploaded on CampusX YouTube channel?\n",
        "We do not provide doubt clearance for any of our videos or projects uploaded on YouTube. However, you can ask your doubts in our Discord channel or in the comments section.\n",
        "Payment/Registration related questions\n",
        "Where do we have to make our payments? Your YouTube channel or website?\n",
        "You have to make all your monthly payments on our website. Here is the link for our website - https://learnwith.campusx.in/\n",
        "What if I don’t like the course after making the payment? What is the refund policy?\n",
        "You get a 7 days refund period from the day you have made the payment. To apply for refund, send us an email at support@campusx.in\n",
        "I am living outside India and I am not able to make the payment on the website. What should I do?\n",
        "You can contact us by sending a mail at support@campusx.in\n",
        "I am from Pakistan and I am unable to make the payment?\n",
        "We currently do not have the option to accept payment from Pakistan directly. If you’d still like to enroll for the course, you may ask a friend or family member living outside Pakistan to make the fee payment on your behalf.\n",
        "Do you accept PayPal as a payment method?\n",
        "Yes, we do. Please contact us at support@campusx.in for more details on using PayPal for payment.\n",
        "I cannot pay the DSMP 2.0 fee as a one-time payment, is there any way to make a payment in installments?\n",
        "At the moment, we do not have a monthly payment plan for the DSMP 2.0 course. However, if you have financial constraints, you can enroll in DSMP 1.0 by paying 799/- a month. Once you complete the course, you may apply for a discount coupon from the website.\n",
        "Post registration queries\n",
        "Till when can I view the paid videos on the website?\n",
        "You can watch the videos till your subscription is valid, that is 3 years from the date of purchase for DSMP 2.0 and 2 years for DSMP 1.0\n",
        "Why is lifetime validity not provided?\n",
        "Because of the low course fee.\n",
        "Do you assist with personal projects?\n",
        "We do not provide support for personal projects due to time constraints and current commitments.\n",
        "Where can I reach out in case of a doubt after the session?\n",
        "You will have to fill a google form provided in your dashboard and our team will contact you for a 1 on 1 doubt clearing session.\n",
        "If I join the program late, can I still ask past week doubts?\n",
        "Yes, just select “past week's doubt” in the doubt clearance google form.\n",
        "What is the validity of Doubt Support?\n",
        "You will get doubt support for 1 year from the data of registration.\n",
        "Certificate and Placement Assistance related queries\n",
        "What is the criteria to get the certificate?\n",
        "There are 2 criterias: You have to pay the entire fee of Rs 10,600 You have to attempt all the course assessments.\n",
        "I have read that Job Preparation is a part of this program. What comes under Job Preparation?\n",
        "This is to clarify that Job Preparation does not mean Placement guarantee. We don't guarantee our learners any jobs or for that matter even interview calls. If you are planning to join this course just for placements, we’re afraid that this course might not be the best for you.\n",
        "Here is what comes under Job Preparation Portfolio Building sessions. Interview Questions. Sessions with industry mentors. Discussion on Job hunting strategies.\n",
        "\"\"\""
      ],
      "metadata": {
        "id": "TuJ0gF5J_Kax"
      },
      "execution_count": null,
      "outputs": []
    },
    {
      "cell_type": "code",
      "source": [
        "document"
      ],
      "metadata": {
        "colab": {
          "base_uri": "https://localhost:8080/",
          "height": 244
        },
        "id": "0yTOiIK6_oIP",
        "outputId": "4177f9d5-038b-4750-d0ae-8a93a1fb5804"
      },
      "execution_count": null,
      "outputs": [
        {
          "output_type": "execute_result",
          "data": {
            "text/plain": [
              "\"About the Program\\nWhat is the course fee for Data Science Mentorship Program (DSMP 2.0)\\nThe total course fee for the DSMP course is Rs 10,600. This includes the fee for both DSMP 1.0 and DSMP 2.0\\nWhat is the total duration of the course?\\nThe total duration of the course is about 6-8 months.\\nAre Deep Learning and NLP a part of the DSMP 2.0 course?\\nNo, NLP and Deep Learning both are not a part of this program’s curriculum.\\nWhat if I miss a live session? Will I get a recording of the session?\\nYes, all our sessions are recorded, so even if you miss a session you can login into our portal and watch the recording as per your convenience.\\nWhere can I find the class schedule?\\nYou will find the class schedule in your course dashboard once you enroll for the course.\\nWhat is the time duration of all the live sessions?\\nRoughly, all the sessions last 2 hours.\\nWhat is the language spoken by the instructor during the sessions?\\nHinglish.\\nHow will I be informed about the upcoming class?\\nYou will get mail from our side before every session once you enroll in the course.\\nCan I do this course if I am from a non-tech background?\\nYes, absolutely. However, you’ll need to be consistent.\\nI am late, can I join the program in the middle?\\nAbsolutely, you can join the program any time.\\nIf I join/pay in the middle, will I be able to see all the past lectures?\\nYes, once you’re enrolled in the course, you will be able to see all the past content in your dashboard.\\nWhere do I have to submit the task?\\nYou don’t have to submit the task. We will provide you with the solutions, you have to self evaluate the task yourself.\\nWill we do case studies in the program?\\nYes, there are 5 end to end case studies and multiple smaller projects.\\nDo we offer any student discounts or promo codes?\\nWe do offer discounts on our courses a few times a year, and we announce them through our social media channels.\\nOn how many devices can I watch the videos simultaneously?\\nYou can watch the videos on one device at a time.\\nDo you provide notes for the lectures?\\nWe do not provide notes for our lectures. We encourage students to make their own notes as it aids in study retention.\\nWhat is the difference between being a paid member on your YouTube channel and your website?\\nWhile the content on our YouTube channel and website is similar, enrolling through our website offers additional benefits such as doubt clearance support and access to an exclusive community of learners on Discord and more.\\nDo I get access to your YouTube channel as a paid member after enrolling through your website?\\nNo, the YouTube channel membership is separate from what we offer on our website.\\nIs there any upcoming batch for the Data Science Mentorship Program?\\nCurrently, we do not have any plans to launch a new batch for DSMP. However, all previous lectures are available as recordings, allowing you to learn at your own pace.\\nDo you provide doubt clearance for the projects uploaded on CampusX YouTube channel?\\nWe do not provide doubt clearance for any of our videos or projects uploaded on YouTube. However, you can ask your doubts in our Discord channel or in the comments section.\\nPayment/Registration related questions\\nWhere do we have to make our payments? Your YouTube channel or website?\\nYou have to make all your monthly payments on our website. Here is the link for our website - https://learnwith.campusx.in/\\nWhat if I don’t like the course after making the payment? What is the refund policy?\\nYou get a 7 days refund period from the day you have made the payment. To apply for refund, send us an email at support@campusx.in\\nI am living outside India and I am not able to make the payment on the website. What should I do?\\nYou can contact us by sending a mail at support@campusx.in\\nI am from Pakistan and I am unable to make the payment?\\nWe currently do not have the option to accept payment from Pakistan directly. If you’d still like to enroll for the course, you may ask a friend or family member living outside Pakistan to make the fee payment on your behalf.\\nDo you accept PayPal as a payment method?\\nYes, we do. Please contact us at support@campusx.in for more details on using PayPal for payment.\\nI cannot pay the DSMP 2.0 fee as a one-time payment, is there any way to make a payment in installments?\\nAt the moment, we do not have a monthly payment plan for the DSMP 2.0 course. However, if you have financial constraints, you can enroll in DSMP 1.0 by paying 799/- a month. Once you complete the course, you may apply for a discount coupon from the website.\\nPost registration queries\\nTill when can I view the paid videos on the website?\\nYou can watch the videos till your subscription is valid, that is 3 years from the date of purchase for DSMP 2.0 and 2 years for DSMP 1.0\\nWhy is lifetime validity not provided?\\nBecause of the low course fee.\\nDo you assist with personal projects?\\nWe do not provide support for personal projects due to time constraints and current commitments.\\nWhere can I reach out in case of a doubt after the session?\\nYou will have to fill a google form provided in your dashboard and our team will contact you for a 1 on 1 doubt clearing session.\\nIf I join the program late, can I still ask past week doubts?\\nYes, just select “past week's doubt” in the doubt clearance google form.\\nWhat is the validity of Doubt Support?\\nYou will get doubt support for 1 year from the data of registration.\\nCertificate and Placement Assistance related queries\\nWhat is the criteria to get the certificate?\\nThere are 2 criterias: You have to pay the entire fee of Rs 10,600 You have to attempt all the course assessments.\\nI have read that Job Preparation is a part of this program. What comes under Job Preparation?\\nThis is to clarify that Job Preparation does not mean Placement guarantee. We don't guarantee our learners any jobs or for that matter even interview calls. If you are planning to join this course just for placements, we’re afraid that this course might not be the best for you.\\nHere is what comes under Job Preparation Portfolio Building sessions. Interview Questions. Sessions with industry mentors. Discussion on Job hunting strategies.\\n\""
            ],
            "application/vnd.google.colaboratory.intrinsic+json": {
              "type": "string"
            }
          },
          "metadata": {},
          "execution_count": 69
        }
      ]
    },
    {
      "cell_type": "code",
      "source": [
        "nltk.download(\"punkt\")\n",
        "nltk.download(\"punkt_tab\")"
      ],
      "metadata": {
        "colab": {
          "base_uri": "https://localhost:8080/"
        },
        "id": "fSG2ONzF_p9M",
        "outputId": "23ebef7b-f78d-4f32-a00f-1f14c19cdad9"
      },
      "execution_count": null,
      "outputs": [
        {
          "output_type": "stream",
          "name": "stderr",
          "text": [
            "[nltk_data] Downloading package punkt to /root/nltk_data...\n",
            "[nltk_data]   Package punkt is already up-to-date!\n",
            "[nltk_data] Downloading package punkt_tab to /root/nltk_data...\n",
            "[nltk_data]   Package punkt_tab is already up-to-date!\n"
          ]
        },
        {
          "output_type": "execute_result",
          "data": {
            "text/plain": [
              "True"
            ]
          },
          "metadata": {},
          "execution_count": 70
        }
      ]
    },
    {
      "cell_type": "code",
      "source": [
        "#Tokenize\n",
        "tokens = word_tokenize(document.lower())"
      ],
      "metadata": {
        "id": "oV51uEk-_9a_"
      },
      "execution_count": null,
      "outputs": []
    },
    {
      "cell_type": "code",
      "source": [
        "# Build Vocab\n",
        "vocab = {'<UNK>' : 0}\n",
        "for token in Counter(tokens).keys():\n",
        "  if token not in vocab:\n",
        "    vocab[token] = len(token)"
      ],
      "metadata": {
        "id": "FWOgubm9APtH"
      },
      "execution_count": null,
      "outputs": []
    },
    {
      "cell_type": "code",
      "source": [
        "vocab"
      ],
      "metadata": {
        "colab": {
          "base_uri": "https://localhost:8080/"
        },
        "id": "Uo4nzkgXFiwB",
        "outputId": "1a039ec2-69ff-4645-8c3a-7e9226b224aa"
      },
      "execution_count": null,
      "outputs": [
        {
          "output_type": "execute_result",
          "data": {
            "text/plain": [
              "{'<UNK>': 0,\n",
              " 'about': 5,\n",
              " 'the': 3,\n",
              " 'program': 7,\n",
              " 'what': 4,\n",
              " 'is': 2,\n",
              " 'course': 6,\n",
              " 'fee': 3,\n",
              " 'for': 3,\n",
              " 'data': 4,\n",
              " 'science': 7,\n",
              " 'mentorship': 10,\n",
              " '(': 1,\n",
              " 'dsmp': 4,\n",
              " '2.0': 3,\n",
              " ')': 1,\n",
              " 'total': 5,\n",
              " 'rs': 2,\n",
              " '10,600.': 7,\n",
              " 'this': 4,\n",
              " 'includes': 8,\n",
              " 'both': 4,\n",
              " '1.0': 3,\n",
              " 'and': 3,\n",
              " 'duration': 8,\n",
              " 'of': 2,\n",
              " '?': 1,\n",
              " '6-8': 3,\n",
              " 'months': 6,\n",
              " '.': 1,\n",
              " 'are': 3,\n",
              " 'deep': 4,\n",
              " 'learning': 8,\n",
              " 'nlp': 3,\n",
              " 'a': 1,\n",
              " 'part': 4,\n",
              " 'no': 2,\n",
              " ',': 1,\n",
              " 'not': 3,\n",
              " '’': 1,\n",
              " 's': 1,\n",
              " 'curriculum': 10,\n",
              " 'if': 2,\n",
              " 'i': 1,\n",
              " 'miss': 4,\n",
              " 'live': 4,\n",
              " 'session': 7,\n",
              " 'will': 4,\n",
              " 'get': 3,\n",
              " 'recording': 9,\n",
              " 'yes': 3,\n",
              " 'all': 3,\n",
              " 'our': 3,\n",
              " 'sessions': 8,\n",
              " 'recorded': 8,\n",
              " 'so': 2,\n",
              " 'even': 4,\n",
              " 'you': 3,\n",
              " 'can': 3,\n",
              " 'login': 5,\n",
              " 'into': 4,\n",
              " 'portal': 6,\n",
              " 'watch': 5,\n",
              " 'as': 2,\n",
              " 'per': 3,\n",
              " 'your': 4,\n",
              " 'convenience': 11,\n",
              " 'where': 5,\n",
              " 'find': 4,\n",
              " 'class': 5,\n",
              " 'schedule': 8,\n",
              " 'in': 2,\n",
              " 'dashboard': 9,\n",
              " 'once': 4,\n",
              " 'enroll': 6,\n",
              " 'time': 4,\n",
              " 'roughly': 7,\n",
              " 'last': 4,\n",
              " '2': 1,\n",
              " 'hours': 5,\n",
              " 'language': 8,\n",
              " 'spoken': 6,\n",
              " 'by': 2,\n",
              " 'instructor': 10,\n",
              " 'during': 6,\n",
              " 'hinglish': 8,\n",
              " 'how': 3,\n",
              " 'be': 2,\n",
              " 'informed': 8,\n",
              " 'upcoming': 8,\n",
              " 'mail': 4,\n",
              " 'from': 4,\n",
              " 'side': 4,\n",
              " 'before': 6,\n",
              " 'every': 5,\n",
              " 'do': 2,\n",
              " 'am': 2,\n",
              " 'non-tech': 8,\n",
              " 'background': 10,\n",
              " 'absolutely': 10,\n",
              " 'however': 7,\n",
              " 'll': 2,\n",
              " 'need': 4,\n",
              " 'to': 2,\n",
              " 'consistent': 10,\n",
              " 'late': 4,\n",
              " 'join': 4,\n",
              " 'middle': 6,\n",
              " 'any': 3,\n",
              " 'join/pay': 8,\n",
              " 'able': 4,\n",
              " 'see': 3,\n",
              " 'past': 4,\n",
              " 'lectures': 8,\n",
              " 're': 2,\n",
              " 'enrolled': 8,\n",
              " 'content': 7,\n",
              " 'have': 4,\n",
              " 'submit': 6,\n",
              " 'task': 4,\n",
              " 'don': 3,\n",
              " 't': 1,\n",
              " 'we': 2,\n",
              " 'provide': 7,\n",
              " 'with': 4,\n",
              " 'solutions': 9,\n",
              " 'self': 4,\n",
              " 'evaluate': 8,\n",
              " 'yourself': 8,\n",
              " 'case': 4,\n",
              " 'studies': 7,\n",
              " 'there': 5,\n",
              " '5': 1,\n",
              " 'end': 3,\n",
              " 'multiple': 8,\n",
              " 'smaller': 7,\n",
              " 'projects': 8,\n",
              " 'offer': 5,\n",
              " 'student': 7,\n",
              " 'discounts': 9,\n",
              " 'or': 2,\n",
              " 'promo': 5,\n",
              " 'codes': 5,\n",
              " 'on': 2,\n",
              " 'courses': 7,\n",
              " 'few': 3,\n",
              " 'times': 5,\n",
              " 'year': 4,\n",
              " 'announce': 8,\n",
              " 'them': 4,\n",
              " 'through': 7,\n",
              " 'social': 6,\n",
              " 'media': 5,\n",
              " 'channels': 8,\n",
              " 'many': 4,\n",
              " 'devices': 7,\n",
              " 'videos': 6,\n",
              " 'simultaneously': 14,\n",
              " 'one': 3,\n",
              " 'device': 6,\n",
              " 'at': 2,\n",
              " 'notes': 5,\n",
              " 'encourage': 9,\n",
              " 'students': 8,\n",
              " 'make': 4,\n",
              " 'their': 5,\n",
              " 'own': 3,\n",
              " 'it': 2,\n",
              " 'aids': 4,\n",
              " 'study': 5,\n",
              " 'retention': 9,\n",
              " 'difference': 10,\n",
              " 'between': 7,\n",
              " 'being': 5,\n",
              " 'paid': 4,\n",
              " 'member': 6,\n",
              " 'youtube': 7,\n",
              " 'channel': 7,\n",
              " 'website': 7,\n",
              " 'while': 5,\n",
              " 'similar': 7,\n",
              " 'enrolling': 9,\n",
              " 'offers': 6,\n",
              " 'additional': 10,\n",
              " 'benefits': 8,\n",
              " 'such': 4,\n",
              " 'doubt': 5,\n",
              " 'clearance': 9,\n",
              " 'support': 7,\n",
              " 'access': 6,\n",
              " 'an': 2,\n",
              " 'exclusive': 9,\n",
              " 'community': 9,\n",
              " 'learners': 8,\n",
              " 'discord': 7,\n",
              " 'more': 4,\n",
              " 'after': 5,\n",
              " 'membership': 10,\n",
              " 'separate': 8,\n",
              " 'batch': 5,\n",
              " 'currently': 9,\n",
              " 'plans': 5,\n",
              " 'launch': 6,\n",
              " 'new': 3,\n",
              " 'previous': 8,\n",
              " 'available': 9,\n",
              " 'recordings': 10,\n",
              " 'allowing': 8,\n",
              " 'learn': 5,\n",
              " 'pace': 4,\n",
              " 'uploaded': 8,\n",
              " 'campusx': 7,\n",
              " 'ask': 3,\n",
              " 'doubts': 6,\n",
              " 'comments': 8,\n",
              " 'section': 7,\n",
              " 'payment/registration': 20,\n",
              " 'related': 7,\n",
              " 'questions': 9,\n",
              " 'payments': 8,\n",
              " 'monthly': 7,\n",
              " 'here': 4,\n",
              " 'link': 4,\n",
              " '-': 1,\n",
              " 'https': 5,\n",
              " ':': 1,\n",
              " '//learnwith.campusx.in/': 23,\n",
              " 'like': 4,\n",
              " 'making': 6,\n",
              " 'payment': 7,\n",
              " 'refund': 6,\n",
              " 'policy': 6,\n",
              " '7': 1,\n",
              " 'days': 4,\n",
              " 'period': 6,\n",
              " 'day': 3,\n",
              " 'made': 4,\n",
              " 'apply': 5,\n",
              " 'send': 4,\n",
              " 'us': 2,\n",
              " 'email': 5,\n",
              " '@': 1,\n",
              " 'campusx.in': 10,\n",
              " 'living': 6,\n",
              " 'outside': 7,\n",
              " 'india': 5,\n",
              " 'should': 6,\n",
              " 'contact': 7,\n",
              " 'sending': 7,\n",
              " 'pakistan': 8,\n",
              " 'unable': 6,\n",
              " 'option': 6,\n",
              " 'accept': 6,\n",
              " 'directly': 8,\n",
              " 'd': 1,\n",
              " 'still': 5,\n",
              " 'may': 3,\n",
              " 'friend': 6,\n",
              " 'family': 6,\n",
              " 'behalf': 6,\n",
              " 'paypal': 6,\n",
              " 'method': 6,\n",
              " 'please': 6,\n",
              " 'details': 7,\n",
              " 'using': 5,\n",
              " 'pay': 3,\n",
              " 'one-time': 8,\n",
              " 'way': 3,\n",
              " 'installments': 12,\n",
              " 'moment': 6,\n",
              " 'plan': 4,\n",
              " 'financial': 9,\n",
              " 'constraints': 11,\n",
              " 'paying': 6,\n",
              " '799/-': 5,\n",
              " 'month': 5,\n",
              " 'complete': 8,\n",
              " 'discount': 8,\n",
              " 'coupon': 6,\n",
              " 'post': 4,\n",
              " 'registration': 12,\n",
              " 'queries': 7,\n",
              " 'till': 4,\n",
              " 'when': 4,\n",
              " 'view': 4,\n",
              " 'subscription': 12,\n",
              " 'valid': 5,\n",
              " 'that': 4,\n",
              " '3': 1,\n",
              " 'years': 5,\n",
              " 'date': 4,\n",
              " 'purchase': 8,\n",
              " 'why': 3,\n",
              " 'lifetime': 8,\n",
              " 'validity': 8,\n",
              " 'provided': 8,\n",
              " 'because': 7,\n",
              " 'low': 3,\n",
              " 'assist': 6,\n",
              " 'personal': 8,\n",
              " 'due': 3,\n",
              " 'current': 7,\n",
              " 'commitments': 11,\n",
              " 'reach': 5,\n",
              " 'out': 3,\n",
              " 'fill': 4,\n",
              " 'google': 6,\n",
              " 'form': 4,\n",
              " 'team': 4,\n",
              " '1': 1,\n",
              " 'clearing': 8,\n",
              " 'week': 4,\n",
              " 'just': 4,\n",
              " 'select': 6,\n",
              " '“': 1,\n",
              " \"'s\": 2,\n",
              " '”': 1,\n",
              " 'certificate': 11,\n",
              " 'placement': 9,\n",
              " 'assistance': 10,\n",
              " 'criteria': 8,\n",
              " 'criterias': 9,\n",
              " 'entire': 6,\n",
              " '10,600': 6,\n",
              " 'attempt': 7,\n",
              " 'assessments': 11,\n",
              " 'read': 4,\n",
              " 'job': 3,\n",
              " 'preparation': 11,\n",
              " 'comes': 5,\n",
              " 'under': 5,\n",
              " 'clarify': 7,\n",
              " 'does': 4,\n",
              " 'mean': 4,\n",
              " 'guarantee': 9,\n",
              " \"n't\": 3,\n",
              " 'jobs': 4,\n",
              " 'matter': 6,\n",
              " 'interview': 9,\n",
              " 'calls': 5,\n",
              " 'planning': 8,\n",
              " 'placements': 10,\n",
              " 'afraid': 6,\n",
              " 'might': 5,\n",
              " 'best': 4,\n",
              " 'portfolio': 9,\n",
              " 'building': 8,\n",
              " 'industry': 8,\n",
              " 'mentors': 7,\n",
              " 'discussion': 10,\n",
              " 'hunting': 7,\n",
              " 'strategies': 10}"
            ]
          },
          "metadata": {},
          "execution_count": 73
        }
      ]
    },
    {
      "cell_type": "code",
      "source": [
        "len(vocab)"
      ],
      "metadata": {
        "colab": {
          "base_uri": "https://localhost:8080/"
        },
        "id": "QnW7jE9yAeLd",
        "outputId": "79d7996b-2257-4858-99f1-1791ed18bf4f"
      },
      "execution_count": null,
      "outputs": [
        {
          "output_type": "execute_result",
          "data": {
            "text/plain": [
              "352"
            ]
          },
          "metadata": {},
          "execution_count": 74
        }
      ]
    },
    {
      "cell_type": "code",
      "source": [
        "#  extract Sentences from data\n",
        "input_sentences = document.split('\\n')\n",
        "input_sentences"
      ],
      "metadata": {
        "colab": {
          "base_uri": "https://localhost:8080/"
        },
        "id": "PDhEey27AzGW",
        "outputId": "6bac8b68-9522-450c-ab95-6b1a478220df"
      },
      "execution_count": null,
      "outputs": [
        {
          "output_type": "execute_result",
          "data": {
            "text/plain": [
              "['About the Program',\n",
              " 'What is the course fee for Data Science Mentorship Program (DSMP 2.0)',\n",
              " 'The total course fee for the DSMP course is Rs 10,600. This includes the fee for both DSMP 1.0 and DSMP 2.0',\n",
              " 'What is the total duration of the course?',\n",
              " 'The total duration of the course is about 6-8 months.',\n",
              " 'Are Deep Learning and NLP a part of the DSMP 2.0 course?',\n",
              " 'No, NLP and Deep Learning both are not a part of this program’s curriculum.',\n",
              " 'What if I miss a live session? Will I get a recording of the session?',\n",
              " 'Yes, all our sessions are recorded, so even if you miss a session you can login into our portal and watch the recording as per your convenience.',\n",
              " 'Where can I find the class schedule?',\n",
              " 'You will find the class schedule in your course dashboard once you enroll for the course.',\n",
              " 'What is the time duration of all the live sessions?',\n",
              " 'Roughly, all the sessions last 2 hours.',\n",
              " 'What is the language spoken by the instructor during the sessions?',\n",
              " 'Hinglish.',\n",
              " 'How will I be informed about the upcoming class?',\n",
              " 'You will get mail from our side before every session once you enroll in the course.',\n",
              " 'Can I do this course if I am from a non-tech background?',\n",
              " 'Yes, absolutely. However, you’ll need to be consistent.',\n",
              " 'I am late, can I join the program in the middle?',\n",
              " 'Absolutely, you can join the program any time.',\n",
              " 'If I join/pay in the middle, will I be able to see all the past lectures?',\n",
              " 'Yes, once you’re enrolled in the course, you will be able to see all the past content in your dashboard.',\n",
              " 'Where do I have to submit the task?',\n",
              " 'You don’t have to submit the task. We will provide you with the solutions, you have to self evaluate the task yourself.',\n",
              " 'Will we do case studies in the program?',\n",
              " 'Yes, there are 5 end to end case studies and multiple smaller projects.',\n",
              " 'Do we offer any student discounts or promo codes?',\n",
              " 'We do offer discounts on our courses a few times a year, and we announce them through our social media channels.',\n",
              " 'On how many devices can I watch the videos simultaneously?',\n",
              " 'You can watch the videos on one device at a time.',\n",
              " 'Do you provide notes for the lectures?',\n",
              " 'We do not provide notes for our lectures. We encourage students to make their own notes as it aids in study retention.',\n",
              " 'What is the difference between being a paid member on your YouTube channel and your website?',\n",
              " 'While the content on our YouTube channel and website is similar, enrolling through our website offers additional benefits such as doubt clearance support and access to an exclusive community of learners on Discord and more.',\n",
              " 'Do I get access to your YouTube channel as a paid member after enrolling through your website?',\n",
              " 'No, the YouTube channel membership is separate from what we offer on our website.',\n",
              " 'Is there any upcoming batch for the Data Science Mentorship Program?',\n",
              " 'Currently, we do not have any plans to launch a new batch for DSMP. However, all previous lectures are available as recordings, allowing you to learn at your own pace.',\n",
              " 'Do you provide doubt clearance for the projects uploaded on CampusX YouTube channel?',\n",
              " 'We do not provide doubt clearance for any of our videos or projects uploaded on YouTube. However, you can ask your doubts in our Discord channel or in the comments section.',\n",
              " 'Payment/Registration related questions',\n",
              " 'Where do we have to make our payments? Your YouTube channel or website?',\n",
              " 'You have to make all your monthly payments on our website. Here is the link for our website - https://learnwith.campusx.in/',\n",
              " 'What if I don’t like the course after making the payment? What is the refund policy?',\n",
              " 'You get a 7 days refund period from the day you have made the payment. To apply for refund, send us an email at support@campusx.in',\n",
              " 'I am living outside India and I am not able to make the payment on the website. What should I do?',\n",
              " 'You can contact us by sending a mail at support@campusx.in',\n",
              " 'I am from Pakistan and I am unable to make the payment?',\n",
              " 'We currently do not have the option to accept payment from Pakistan directly. If you’d still like to enroll for the course, you may ask a friend or family member living outside Pakistan to make the fee payment on your behalf.',\n",
              " 'Do you accept PayPal as a payment method?',\n",
              " 'Yes, we do. Please contact us at support@campusx.in for more details on using PayPal for payment.',\n",
              " 'I cannot pay the DSMP 2.0 fee as a one-time payment, is there any way to make a payment in installments?',\n",
              " 'At the moment, we do not have a monthly payment plan for the DSMP 2.0 course. However, if you have financial constraints, you can enroll in DSMP 1.0 by paying 799/- a month. Once you complete the course, you may apply for a discount coupon from the website.',\n",
              " 'Post registration queries',\n",
              " 'Till when can I view the paid videos on the website?',\n",
              " 'You can watch the videos till your subscription is valid, that is 3 years from the date of purchase for DSMP 2.0 and 2 years for DSMP 1.0',\n",
              " 'Why is lifetime validity not provided?',\n",
              " 'Because of the low course fee.',\n",
              " 'Do you assist with personal projects?',\n",
              " 'We do not provide support for personal projects due to time constraints and current commitments.',\n",
              " 'Where can I reach out in case of a doubt after the session?',\n",
              " 'You will have to fill a google form provided in your dashboard and our team will contact you for a 1 on 1 doubt clearing session.',\n",
              " 'If I join the program late, can I still ask past week doubts?',\n",
              " \"Yes, just select “past week's doubt” in the doubt clearance google form.\",\n",
              " 'What is the validity of Doubt Support?',\n",
              " 'You will get doubt support for 1 year from the data of registration.',\n",
              " 'Certificate and Placement Assistance related queries',\n",
              " 'What is the criteria to get the certificate?',\n",
              " 'There are 2 criterias: You have to pay the entire fee of Rs 10,600 You have to attempt all the course assessments.',\n",
              " 'I have read that Job Preparation is a part of this program. What comes under Job Preparation?',\n",
              " \"This is to clarify that Job Preparation does not mean Placement guarantee. We don't guarantee our learners any jobs or for that matter even interview calls. If you are planning to join this course just for placements, we’re afraid that this course might not be the best for you.\",\n",
              " 'Here is what comes under Job Preparation Portfolio Building sessions. Interview Questions. Sessions with industry mentors. Discussion on Job hunting strategies.',\n",
              " '']"
            ]
          },
          "metadata": {},
          "execution_count": 75
        }
      ]
    },
    {
      "cell_type": "code",
      "source": [
        "for sentences in input_sentences:\n",
        "  print(word_tokenize(sentences))"
      ],
      "metadata": {
        "colab": {
          "base_uri": "https://localhost:8080/"
        },
        "id": "jmAtmJGDBY8K",
        "outputId": "52399a54-1ec9-4a24-c4cf-393fa890334f"
      },
      "execution_count": null,
      "outputs": [
        {
          "output_type": "stream",
          "name": "stdout",
          "text": [
            "['About', 'the', 'Program']\n",
            "['What', 'is', 'the', 'course', 'fee', 'for', 'Data', 'Science', 'Mentorship', 'Program', '(', 'DSMP', '2.0', ')']\n",
            "['The', 'total', 'course', 'fee', 'for', 'the', 'DSMP', 'course', 'is', 'Rs', '10,600', '.', 'This', 'includes', 'the', 'fee', 'for', 'both', 'DSMP', '1.0', 'and', 'DSMP', '2.0']\n",
            "['What', 'is', 'the', 'total', 'duration', 'of', 'the', 'course', '?']\n",
            "['The', 'total', 'duration', 'of', 'the', 'course', 'is', 'about', '6-8', 'months', '.']\n",
            "['Are', 'Deep', 'Learning', 'and', 'NLP', 'a', 'part', 'of', 'the', 'DSMP', '2.0', 'course', '?']\n",
            "['No', ',', 'NLP', 'and', 'Deep', 'Learning', 'both', 'are', 'not', 'a', 'part', 'of', 'this', 'program', '’', 's', 'curriculum', '.']\n",
            "['What', 'if', 'I', 'miss', 'a', 'live', 'session', '?', 'Will', 'I', 'get', 'a', 'recording', 'of', 'the', 'session', '?']\n",
            "['Yes', ',', 'all', 'our', 'sessions', 'are', 'recorded', ',', 'so', 'even', 'if', 'you', 'miss', 'a', 'session', 'you', 'can', 'login', 'into', 'our', 'portal', 'and', 'watch', 'the', 'recording', 'as', 'per', 'your', 'convenience', '.']\n",
            "['Where', 'can', 'I', 'find', 'the', 'class', 'schedule', '?']\n",
            "['You', 'will', 'find', 'the', 'class', 'schedule', 'in', 'your', 'course', 'dashboard', 'once', 'you', 'enroll', 'for', 'the', 'course', '.']\n",
            "['What', 'is', 'the', 'time', 'duration', 'of', 'all', 'the', 'live', 'sessions', '?']\n",
            "['Roughly', ',', 'all', 'the', 'sessions', 'last', '2', 'hours', '.']\n",
            "['What', 'is', 'the', 'language', 'spoken', 'by', 'the', 'instructor', 'during', 'the', 'sessions', '?']\n",
            "['Hinglish', '.']\n",
            "['How', 'will', 'I', 'be', 'informed', 'about', 'the', 'upcoming', 'class', '?']\n",
            "['You', 'will', 'get', 'mail', 'from', 'our', 'side', 'before', 'every', 'session', 'once', 'you', 'enroll', 'in', 'the', 'course', '.']\n",
            "['Can', 'I', 'do', 'this', 'course', 'if', 'I', 'am', 'from', 'a', 'non-tech', 'background', '?']\n",
            "['Yes', ',', 'absolutely', '.', 'However', ',', 'you', '’', 'll', 'need', 'to', 'be', 'consistent', '.']\n",
            "['I', 'am', 'late', ',', 'can', 'I', 'join', 'the', 'program', 'in', 'the', 'middle', '?']\n",
            "['Absolutely', ',', 'you', 'can', 'join', 'the', 'program', 'any', 'time', '.']\n",
            "['If', 'I', 'join/pay', 'in', 'the', 'middle', ',', 'will', 'I', 'be', 'able', 'to', 'see', 'all', 'the', 'past', 'lectures', '?']\n",
            "['Yes', ',', 'once', 'you', '’', 're', 'enrolled', 'in', 'the', 'course', ',', 'you', 'will', 'be', 'able', 'to', 'see', 'all', 'the', 'past', 'content', 'in', 'your', 'dashboard', '.']\n",
            "['Where', 'do', 'I', 'have', 'to', 'submit', 'the', 'task', '?']\n",
            "['You', 'don', '’', 't', 'have', 'to', 'submit', 'the', 'task', '.', 'We', 'will', 'provide', 'you', 'with', 'the', 'solutions', ',', 'you', 'have', 'to', 'self', 'evaluate', 'the', 'task', 'yourself', '.']\n",
            "['Will', 'we', 'do', 'case', 'studies', 'in', 'the', 'program', '?']\n",
            "['Yes', ',', 'there', 'are', '5', 'end', 'to', 'end', 'case', 'studies', 'and', 'multiple', 'smaller', 'projects', '.']\n",
            "['Do', 'we', 'offer', 'any', 'student', 'discounts', 'or', 'promo', 'codes', '?']\n",
            "['We', 'do', 'offer', 'discounts', 'on', 'our', 'courses', 'a', 'few', 'times', 'a', 'year', ',', 'and', 'we', 'announce', 'them', 'through', 'our', 'social', 'media', 'channels', '.']\n",
            "['On', 'how', 'many', 'devices', 'can', 'I', 'watch', 'the', 'videos', 'simultaneously', '?']\n",
            "['You', 'can', 'watch', 'the', 'videos', 'on', 'one', 'device', 'at', 'a', 'time', '.']\n",
            "['Do', 'you', 'provide', 'notes', 'for', 'the', 'lectures', '?']\n",
            "['We', 'do', 'not', 'provide', 'notes', 'for', 'our', 'lectures', '.', 'We', 'encourage', 'students', 'to', 'make', 'their', 'own', 'notes', 'as', 'it', 'aids', 'in', 'study', 'retention', '.']\n",
            "['What', 'is', 'the', 'difference', 'between', 'being', 'a', 'paid', 'member', 'on', 'your', 'YouTube', 'channel', 'and', 'your', 'website', '?']\n",
            "['While', 'the', 'content', 'on', 'our', 'YouTube', 'channel', 'and', 'website', 'is', 'similar', ',', 'enrolling', 'through', 'our', 'website', 'offers', 'additional', 'benefits', 'such', 'as', 'doubt', 'clearance', 'support', 'and', 'access', 'to', 'an', 'exclusive', 'community', 'of', 'learners', 'on', 'Discord', 'and', 'more', '.']\n",
            "['Do', 'I', 'get', 'access', 'to', 'your', 'YouTube', 'channel', 'as', 'a', 'paid', 'member', 'after', 'enrolling', 'through', 'your', 'website', '?']\n",
            "['No', ',', 'the', 'YouTube', 'channel', 'membership', 'is', 'separate', 'from', 'what', 'we', 'offer', 'on', 'our', 'website', '.']\n",
            "['Is', 'there', 'any', 'upcoming', 'batch', 'for', 'the', 'Data', 'Science', 'Mentorship', 'Program', '?']\n",
            "['Currently', ',', 'we', 'do', 'not', 'have', 'any', 'plans', 'to', 'launch', 'a', 'new', 'batch', 'for', 'DSMP', '.', 'However', ',', 'all', 'previous', 'lectures', 'are', 'available', 'as', 'recordings', ',', 'allowing', 'you', 'to', 'learn', 'at', 'your', 'own', 'pace', '.']\n",
            "['Do', 'you', 'provide', 'doubt', 'clearance', 'for', 'the', 'projects', 'uploaded', 'on', 'CampusX', 'YouTube', 'channel', '?']\n",
            "['We', 'do', 'not', 'provide', 'doubt', 'clearance', 'for', 'any', 'of', 'our', 'videos', 'or', 'projects', 'uploaded', 'on', 'YouTube', '.', 'However', ',', 'you', 'can', 'ask', 'your', 'doubts', 'in', 'our', 'Discord', 'channel', 'or', 'in', 'the', 'comments', 'section', '.']\n",
            "['Payment/Registration', 'related', 'questions']\n",
            "['Where', 'do', 'we', 'have', 'to', 'make', 'our', 'payments', '?', 'Your', 'YouTube', 'channel', 'or', 'website', '?']\n",
            "['You', 'have', 'to', 'make', 'all', 'your', 'monthly', 'payments', 'on', 'our', 'website', '.', 'Here', 'is', 'the', 'link', 'for', 'our', 'website', '-', 'https', ':', '//learnwith.campusx.in/']\n",
            "['What', 'if', 'I', 'don', '’', 't', 'like', 'the', 'course', 'after', 'making', 'the', 'payment', '?', 'What', 'is', 'the', 'refund', 'policy', '?']\n",
            "['You', 'get', 'a', '7', 'days', 'refund', 'period', 'from', 'the', 'day', 'you', 'have', 'made', 'the', 'payment', '.', 'To', 'apply', 'for', 'refund', ',', 'send', 'us', 'an', 'email', 'at', 'support', '@', 'campusx.in']\n",
            "['I', 'am', 'living', 'outside', 'India', 'and', 'I', 'am', 'not', 'able', 'to', 'make', 'the', 'payment', 'on', 'the', 'website', '.', 'What', 'should', 'I', 'do', '?']\n",
            "['You', 'can', 'contact', 'us', 'by', 'sending', 'a', 'mail', 'at', 'support', '@', 'campusx.in']\n",
            "['I', 'am', 'from', 'Pakistan', 'and', 'I', 'am', 'unable', 'to', 'make', 'the', 'payment', '?']\n",
            "['We', 'currently', 'do', 'not', 'have', 'the', 'option', 'to', 'accept', 'payment', 'from', 'Pakistan', 'directly', '.', 'If', 'you', '’', 'd', 'still', 'like', 'to', 'enroll', 'for', 'the', 'course', ',', 'you', 'may', 'ask', 'a', 'friend', 'or', 'family', 'member', 'living', 'outside', 'Pakistan', 'to', 'make', 'the', 'fee', 'payment', 'on', 'your', 'behalf', '.']\n",
            "['Do', 'you', 'accept', 'PayPal', 'as', 'a', 'payment', 'method', '?']\n",
            "['Yes', ',', 'we', 'do', '.', 'Please', 'contact', 'us', 'at', 'support', '@', 'campusx.in', 'for', 'more', 'details', 'on', 'using', 'PayPal', 'for', 'payment', '.']\n",
            "['I', 'can', 'not', 'pay', 'the', 'DSMP', '2.0', 'fee', 'as', 'a', 'one-time', 'payment', ',', 'is', 'there', 'any', 'way', 'to', 'make', 'a', 'payment', 'in', 'installments', '?']\n",
            "['At', 'the', 'moment', ',', 'we', 'do', 'not', 'have', 'a', 'monthly', 'payment', 'plan', 'for', 'the', 'DSMP', '2.0', 'course', '.', 'However', ',', 'if', 'you', 'have', 'financial', 'constraints', ',', 'you', 'can', 'enroll', 'in', 'DSMP', '1.0', 'by', 'paying', '799/-', 'a', 'month', '.', 'Once', 'you', 'complete', 'the', 'course', ',', 'you', 'may', 'apply', 'for', 'a', 'discount', 'coupon', 'from', 'the', 'website', '.']\n",
            "['Post', 'registration', 'queries']\n",
            "['Till', 'when', 'can', 'I', 'view', 'the', 'paid', 'videos', 'on', 'the', 'website', '?']\n",
            "['You', 'can', 'watch', 'the', 'videos', 'till', 'your', 'subscription', 'is', 'valid', ',', 'that', 'is', '3', 'years', 'from', 'the', 'date', 'of', 'purchase', 'for', 'DSMP', '2.0', 'and', '2', 'years', 'for', 'DSMP', '1.0']\n",
            "['Why', 'is', 'lifetime', 'validity', 'not', 'provided', '?']\n",
            "['Because', 'of', 'the', 'low', 'course', 'fee', '.']\n",
            "['Do', 'you', 'assist', 'with', 'personal', 'projects', '?']\n",
            "['We', 'do', 'not', 'provide', 'support', 'for', 'personal', 'projects', 'due', 'to', 'time', 'constraints', 'and', 'current', 'commitments', '.']\n",
            "['Where', 'can', 'I', 'reach', 'out', 'in', 'case', 'of', 'a', 'doubt', 'after', 'the', 'session', '?']\n",
            "['You', 'will', 'have', 'to', 'fill', 'a', 'google', 'form', 'provided', 'in', 'your', 'dashboard', 'and', 'our', 'team', 'will', 'contact', 'you', 'for', 'a', '1', 'on', '1', 'doubt', 'clearing', 'session', '.']\n",
            "['If', 'I', 'join', 'the', 'program', 'late', ',', 'can', 'I', 'still', 'ask', 'past', 'week', 'doubts', '?']\n",
            "['Yes', ',', 'just', 'select', '“', 'past', 'week', \"'s\", 'doubt', '”', 'in', 'the', 'doubt', 'clearance', 'google', 'form', '.']\n",
            "['What', 'is', 'the', 'validity', 'of', 'Doubt', 'Support', '?']\n",
            "['You', 'will', 'get', 'doubt', 'support', 'for', '1', 'year', 'from', 'the', 'data', 'of', 'registration', '.']\n",
            "['Certificate', 'and', 'Placement', 'Assistance', 'related', 'queries']\n",
            "['What', 'is', 'the', 'criteria', 'to', 'get', 'the', 'certificate', '?']\n",
            "['There', 'are', '2', 'criterias', ':', 'You', 'have', 'to', 'pay', 'the', 'entire', 'fee', 'of', 'Rs', '10,600', 'You', 'have', 'to', 'attempt', 'all', 'the', 'course', 'assessments', '.']\n",
            "['I', 'have', 'read', 'that', 'Job', 'Preparation', 'is', 'a', 'part', 'of', 'this', 'program', '.', 'What', 'comes', 'under', 'Job', 'Preparation', '?']\n",
            "['This', 'is', 'to', 'clarify', 'that', 'Job', 'Preparation', 'does', 'not', 'mean', 'Placement', 'guarantee', '.', 'We', 'do', \"n't\", 'guarantee', 'our', 'learners', 'any', 'jobs', 'or', 'for', 'that', 'matter', 'even', 'interview', 'calls', '.', 'If', 'you', 'are', 'planning', 'to', 'join', 'this', 'course', 'just', 'for', 'placements', ',', 'we', '’', 're', 'afraid', 'that', 'this', 'course', 'might', 'not', 'be', 'the', 'best', 'for', 'you', '.']\n",
            "['Here', 'is', 'what', 'comes', 'under', 'Job', 'Preparation', 'Portfolio', 'Building', 'sessions', '.', 'Interview', 'Questions', '.', 'Sessions', 'with', 'industry', 'mentors', '.', 'Discussion', 'on', 'Job', 'hunting', 'strategies', '.']\n",
            "[]\n"
          ]
        }
      ]
    },
    {
      "cell_type": "code",
      "source": [
        "def text_to_indices(sentence, vocab):\n",
        "  index = []\n",
        "  for x in sentence:\n",
        "    if x in vocab:\n",
        "      index.append(vocab[x])\n",
        "    else:\n",
        "      index.append(vocab['<UNK>'])\n",
        "  return index"
      ],
      "metadata": {
        "id": "wgyhWHpuCjDe"
      },
      "execution_count": null,
      "outputs": []
    },
    {
      "cell_type": "code",
      "source": [
        "input_numerical_sentences = []\n",
        "for sentence in input_sentences:\n",
        "  print(text_to_indices(word_tokenize(sentence.lower()),vocab))\n",
        "  input_numerical_sentences.append(text_to_indices(word_tokenize(sentence.lower()),vocab))"
      ],
      "metadata": {
        "colab": {
          "base_uri": "https://localhost:8080/"
        },
        "id": "uVtFtGktCZsB",
        "outputId": "a8a82340-7bf6-4718-d136-36b5e62c62e3"
      },
      "execution_count": null,
      "outputs": [
        {
          "output_type": "stream",
          "name": "stdout",
          "text": [
            "[5, 3, 7]\n",
            "[4, 2, 3, 6, 3, 3, 4, 7, 10, 7, 1, 4, 3, 1]\n",
            "[3, 5, 6, 3, 3, 3, 4, 6, 2, 2, 7, 4, 8, 3, 3, 3, 4, 4, 3, 3, 4, 3]\n",
            "[4, 2, 3, 5, 8, 2, 3, 6, 1]\n",
            "[3, 5, 8, 2, 3, 6, 2, 5, 3, 6, 1]\n",
            "[3, 4, 8, 3, 3, 1, 4, 2, 3, 4, 3, 6, 1]\n",
            "[2, 1, 3, 3, 4, 8, 4, 3, 3, 1, 4, 2, 4, 7, 1, 1, 10, 1]\n",
            "[4, 2, 1, 4, 1, 4, 7, 1, 4, 1, 3, 1, 9, 2, 3, 7, 1]\n",
            "[3, 1, 3, 3, 8, 3, 8, 1, 2, 4, 2, 3, 4, 1, 7, 3, 3, 5, 4, 3, 6, 3, 5, 3, 9, 2, 3, 4, 11, 1]\n",
            "[5, 3, 1, 4, 3, 5, 8, 1]\n",
            "[3, 4, 4, 3, 5, 8, 2, 4, 6, 9, 4, 3, 6, 3, 3, 6, 1]\n",
            "[4, 2, 3, 4, 8, 2, 3, 3, 4, 8, 1]\n",
            "[7, 1, 3, 3, 8, 4, 1, 5, 1]\n",
            "[4, 2, 3, 8, 6, 2, 3, 10, 6, 3, 8, 1]\n",
            "[8, 1]\n",
            "[3, 4, 1, 2, 8, 5, 3, 8, 5, 1]\n",
            "[3, 4, 3, 4, 4, 3, 4, 6, 5, 7, 4, 3, 6, 2, 3, 6, 1]\n",
            "[3, 1, 2, 4, 6, 2, 1, 2, 4, 1, 8, 10, 1]\n",
            "[3, 1, 10, 1, 7, 1, 3, 1, 2, 4, 2, 2, 10, 1]\n",
            "[1, 2, 4, 1, 3, 1, 4, 3, 7, 2, 3, 6, 1]\n",
            "[10, 1, 3, 3, 4, 3, 7, 3, 4, 1]\n",
            "[2, 1, 8, 2, 3, 6, 1, 4, 1, 2, 4, 2, 3, 3, 3, 4, 8, 1]\n",
            "[3, 1, 4, 3, 1, 2, 8, 2, 3, 6, 1, 3, 4, 2, 4, 2, 3, 3, 3, 4, 7, 2, 4, 9, 1]\n",
            "[5, 2, 1, 4, 2, 6, 3, 4, 1]\n",
            "[3, 3, 1, 1, 4, 2, 6, 3, 4, 1, 2, 4, 7, 3, 4, 3, 9, 1, 3, 4, 2, 4, 8, 3, 4, 8, 1]\n",
            "[4, 2, 2, 4, 7, 2, 3, 7, 1]\n",
            "[3, 1, 5, 3, 1, 3, 2, 3, 4, 7, 3, 8, 7, 8, 1]\n",
            "[2, 2, 5, 3, 7, 9, 2, 5, 5, 1]\n",
            "[2, 2, 5, 9, 2, 3, 7, 1, 3, 5, 1, 4, 1, 3, 2, 8, 4, 7, 3, 6, 5, 8, 1]\n",
            "[2, 3, 4, 7, 3, 1, 5, 3, 6, 14, 1]\n",
            "[3, 3, 5, 3, 6, 2, 3, 6, 2, 1, 4, 1]\n",
            "[2, 3, 7, 5, 3, 3, 8, 1]\n",
            "[2, 2, 3, 7, 5, 3, 3, 8, 1, 2, 9, 8, 2, 4, 5, 3, 5, 2, 2, 4, 2, 5, 9, 1]\n",
            "[4, 2, 3, 10, 7, 5, 1, 4, 6, 2, 4, 7, 7, 3, 4, 7, 1]\n",
            "[5, 3, 7, 2, 3, 7, 7, 3, 7, 2, 7, 1, 9, 7, 3, 7, 6, 10, 8, 4, 2, 5, 9, 7, 3, 6, 2, 2, 9, 9, 2, 8, 2, 7, 3, 4, 1]\n",
            "[2, 1, 3, 6, 2, 4, 7, 7, 2, 1, 4, 6, 5, 9, 7, 4, 7, 1]\n",
            "[2, 1, 3, 7, 7, 10, 2, 8, 4, 4, 2, 5, 2, 3, 7, 1]\n",
            "[2, 5, 3, 8, 5, 3, 3, 4, 7, 10, 7, 1]\n",
            "[9, 1, 2, 2, 3, 4, 3, 5, 2, 6, 1, 3, 5, 3, 4, 1, 7, 1, 3, 8, 8, 3, 9, 2, 10, 1, 8, 3, 2, 5, 2, 4, 3, 4, 1]\n",
            "[2, 3, 7, 5, 9, 3, 3, 8, 8, 2, 7, 7, 7, 1]\n",
            "[2, 2, 3, 7, 5, 9, 3, 3, 2, 3, 6, 2, 8, 8, 2, 7, 1, 7, 1, 3, 3, 3, 4, 6, 2, 3, 7, 7, 2, 2, 3, 8, 7, 1]\n",
            "[20, 7, 9]\n",
            "[5, 2, 2, 4, 2, 4, 3, 8, 1, 4, 7, 7, 2, 7, 1]\n",
            "[3, 4, 2, 4, 3, 4, 7, 8, 2, 3, 7, 1, 4, 2, 3, 4, 3, 3, 7, 1, 5, 1, 23]\n",
            "[4, 2, 1, 3, 1, 1, 4, 3, 6, 5, 6, 3, 7, 1, 4, 2, 3, 6, 6, 1]\n",
            "[3, 3, 1, 1, 4, 6, 6, 4, 3, 3, 3, 4, 4, 3, 7, 1, 2, 5, 3, 6, 1, 4, 2, 2, 5, 2, 7, 1, 10]\n",
            "[1, 2, 6, 7, 5, 3, 1, 2, 3, 4, 2, 4, 3, 7, 2, 3, 7, 1, 4, 6, 1, 2, 1]\n",
            "[3, 3, 7, 2, 2, 7, 1, 4, 2, 7, 1, 10]\n",
            "[1, 2, 4, 8, 3, 1, 2, 6, 2, 4, 3, 7, 1]\n",
            "[2, 9, 2, 3, 4, 3, 6, 2, 6, 7, 4, 8, 8, 1, 2, 3, 1, 1, 5, 4, 2, 6, 3, 3, 6, 1, 3, 3, 3, 1, 6, 2, 6, 6, 6, 7, 8, 2, 4, 3, 3, 7, 2, 4, 6, 1]\n",
            "[2, 3, 6, 6, 2, 1, 7, 6, 1]\n",
            "[3, 1, 2, 2, 1, 6, 7, 2, 2, 7, 1, 10, 3, 4, 7, 2, 5, 6, 3, 7, 1]\n",
            "[1, 3, 3, 3, 3, 4, 3, 3, 2, 1, 8, 7, 1, 2, 5, 3, 3, 2, 4, 1, 7, 2, 12, 1]\n",
            "[2, 3, 6, 1, 2, 2, 3, 4, 1, 7, 7, 4, 3, 3, 4, 3, 6, 1, 7, 1, 2, 3, 4, 9, 11, 1, 3, 3, 6, 2, 4, 3, 2, 6, 5, 1, 5, 1, 4, 3, 8, 3, 6, 1, 3, 3, 5, 3, 1, 8, 6, 4, 3, 7, 1]\n",
            "[4, 12, 7]\n",
            "[4, 4, 3, 1, 4, 3, 4, 6, 2, 3, 7, 1]\n",
            "[3, 3, 5, 3, 6, 4, 4, 12, 2, 5, 1, 4, 2, 1, 5, 4, 3, 4, 2, 8, 3, 4, 3, 3, 1, 5, 3, 4, 3]\n",
            "[3, 2, 8, 8, 3, 8, 1]\n",
            "[7, 2, 3, 3, 6, 3, 1]\n",
            "[2, 3, 6, 4, 8, 8, 1]\n",
            "[2, 2, 3, 7, 7, 3, 8, 8, 3, 2, 4, 11, 3, 7, 11, 1]\n",
            "[5, 3, 1, 5, 3, 2, 4, 2, 1, 5, 5, 3, 7, 1]\n",
            "[3, 4, 4, 2, 4, 1, 6, 4, 8, 2, 4, 9, 3, 3, 4, 4, 7, 3, 3, 1, 1, 2, 1, 5, 8, 7, 1]\n",
            "[2, 1, 4, 3, 7, 4, 1, 3, 1, 5, 3, 4, 4, 6, 1]\n",
            "[3, 1, 4, 6, 1, 4, 4, 2, 5, 1, 2, 3, 5, 9, 6, 4, 1]\n",
            "[4, 2, 3, 8, 2, 5, 7, 1]\n",
            "[3, 4, 3, 5, 7, 3, 1, 4, 4, 3, 4, 2, 12, 1]\n",
            "[11, 3, 9, 10, 7, 7]\n",
            "[4, 2, 3, 8, 2, 3, 3, 11, 1]\n",
            "[5, 3, 1, 9, 1, 3, 4, 2, 3, 3, 6, 3, 2, 2, 6, 3, 4, 2, 7, 3, 3, 6, 11, 1]\n",
            "[1, 4, 4, 4, 3, 11, 2, 1, 4, 2, 4, 7, 1, 4, 5, 5, 3, 11, 1]\n",
            "[4, 2, 2, 7, 4, 3, 11, 4, 3, 4, 9, 9, 1, 2, 2, 3, 9, 3, 8, 3, 4, 2, 3, 4, 6, 4, 9, 5, 1, 2, 3, 3, 8, 2, 4, 4, 6, 4, 3, 10, 1, 2, 1, 2, 6, 4, 4, 6, 5, 3, 2, 3, 4, 3, 3, 1]\n",
            "[4, 2, 4, 5, 5, 3, 11, 9, 8, 8, 1, 9, 9, 1, 8, 4, 8, 7, 1, 10, 2, 3, 7, 10, 1]\n",
            "[]\n"
          ]
        }
      ]
    },
    {
      "cell_type": "code",
      "source": [
        "# Now Making training sequences\n",
        "training_sequences = []\n",
        "for sentence in input_numerical_sentences:\n",
        "  for i in range(1,len(sentence)):\n",
        "    training_sequences.append(sentence[:i+1])"
      ],
      "metadata": {
        "id": "SvUpndEGD5Hn"
      },
      "execution_count": null,
      "outputs": []
    },
    {
      "cell_type": "code",
      "source": [
        "len(training_sequences)"
      ],
      "metadata": {
        "colab": {
          "base_uri": "https://localhost:8080/"
        },
        "id": "ffU1o4mDJgE1",
        "outputId": "4e4e238e-5eee-4369-cb01-727580164dbd"
      },
      "execution_count": null,
      "outputs": [
        {
          "output_type": "execute_result",
          "data": {
            "text/plain": [
              "1182"
            ]
          },
          "metadata": {},
          "execution_count": 80
        }
      ]
    },
    {
      "cell_type": "code",
      "source": [
        "# but for giving the batchs, all batchs should have same size : use Padding(0)"
      ],
      "metadata": {
        "id": "g_CGp89lJvJk"
      },
      "execution_count": null,
      "outputs": []
    },
    {
      "cell_type": "code",
      "source": [
        "len_list= []\n",
        "for sequence in training_sequences:\n",
        "  len_list.append(len(sequence))\n",
        "\n",
        "max(len_list)"
      ],
      "metadata": {
        "colab": {
          "base_uri": "https://localhost:8080/"
        },
        "id": "Z16K_VM-KXh8",
        "outputId": "c9eedbe4-45a1-46ad-af00-7c803ca91cf2"
      },
      "execution_count": null,
      "outputs": [
        {
          "output_type": "execute_result",
          "data": {
            "text/plain": [
              "56"
            ]
          },
          "metadata": {},
          "execution_count": 82
        }
      ]
    },
    {
      "cell_type": "code",
      "source": [
        "padded_training_sequence = []\n",
        "for sequence in training_sequences:\n",
        "  padded_training_sequence.append([0]*(max(len_list) - len(sequence)) + sequence)"
      ],
      "metadata": {
        "id": "htaOkyL4Klvg"
      },
      "execution_count": null,
      "outputs": []
    },
    {
      "cell_type": "code",
      "source": [
        "len(padded_training_sequence[5])"
      ],
      "metadata": {
        "colab": {
          "base_uri": "https://localhost:8080/"
        },
        "id": "xCpGfoSJK-Sm",
        "outputId": "cd90bc1a-f463-441a-e475-b2d086f3b5a2"
      },
      "execution_count": null,
      "outputs": [
        {
          "output_type": "execute_result",
          "data": {
            "text/plain": [
              "56"
            ]
          },
          "metadata": {},
          "execution_count": 84
        }
      ]
    },
    {
      "cell_type": "code",
      "source": [
        "padded_training_sequence = torch.tensor(padded_training_sequence)"
      ],
      "metadata": {
        "id": "ESq4phWALMhn"
      },
      "execution_count": null,
      "outputs": []
    },
    {
      "cell_type": "code",
      "source": [
        "padded_training_sequence.shape"
      ],
      "metadata": {
        "colab": {
          "base_uri": "https://localhost:8080/"
        },
        "id": "0nQh6Xp3Lf_C",
        "outputId": "0cc18035-6c01-4d28-b92f-4e4a7dd03e21"
      },
      "execution_count": null,
      "outputs": [
        {
          "output_type": "execute_result",
          "data": {
            "text/plain": [
              "torch.Size([1182, 56])"
            ]
          },
          "metadata": {},
          "execution_count": 86
        }
      ]
    },
    {
      "cell_type": "code",
      "source": [
        "x = padded_training_sequence[:,:-1]\n",
        "y = padded_training_sequence[:,-1]"
      ],
      "metadata": {
        "id": "Us-A3Nq-LjjP"
      },
      "execution_count": null,
      "outputs": []
    },
    {
      "cell_type": "code",
      "source": [
        "x"
      ],
      "metadata": {
        "colab": {
          "base_uri": "https://localhost:8080/"
        },
        "id": "UrKAnzTqLsMY",
        "outputId": "d4dd92c1-04bb-42e5-a689-0b3737a90a43"
      },
      "execution_count": null,
      "outputs": [
        {
          "output_type": "execute_result",
          "data": {
            "text/plain": [
              "tensor([[ 0,  0,  0,  ...,  0,  0,  5],\n",
              "        [ 0,  0,  0,  ...,  0,  5,  3],\n",
              "        [ 0,  0,  0,  ...,  0,  0,  4],\n",
              "        ...,\n",
              "        [ 0,  0,  0,  ..., 10,  2,  3],\n",
              "        [ 0,  0,  0,  ...,  2,  3,  7],\n",
              "        [ 0,  0,  0,  ...,  3,  7, 10]])"
            ]
          },
          "metadata": {},
          "execution_count": 88
        }
      ]
    },
    {
      "cell_type": "code",
      "source": [
        "y"
      ],
      "metadata": {
        "colab": {
          "base_uri": "https://localhost:8080/"
        },
        "id": "ipkFqRbrLuXx",
        "outputId": "02f87fb5-1d16-4d0a-b2b6-5a06e8507871"
      },
      "execution_count": null,
      "outputs": [
        {
          "output_type": "execute_result",
          "data": {
            "text/plain": [
              "tensor([ 3,  7,  2,  ...,  7, 10,  1])"
            ]
          },
          "metadata": {},
          "execution_count": 89
        }
      ]
    },
    {
      "cell_type": "code",
      "source": [
        "class CustomDataset(Dataset):\n",
        "  def __init__(self, x, y):\n",
        "    self.x = x\n",
        "    self.y = y\n",
        "\n",
        "  def __len__(self):\n",
        "    return len(self.x)\n",
        "\n",
        "  def __getitem__(self, idx):\n",
        "    return self.x[idx], self.y[idx]"
      ],
      "metadata": {
        "id": "pu8W5QT6LuoN"
      },
      "execution_count": null,
      "outputs": []
    },
    {
      "cell_type": "code",
      "source": [
        "dataset = CustomDataset(x,y)"
      ],
      "metadata": {
        "id": "LPYgK9h6MBpM"
      },
      "execution_count": null,
      "outputs": []
    },
    {
      "cell_type": "code",
      "source": [
        "len(dataset)"
      ],
      "metadata": {
        "colab": {
          "base_uri": "https://localhost:8080/"
        },
        "id": "jdsJKyc1MD8D",
        "outputId": "4dc7ad9d-c5fa-425f-b61a-7b997e677705"
      },
      "execution_count": null,
      "outputs": [
        {
          "output_type": "execute_result",
          "data": {
            "text/plain": [
              "1182"
            ]
          },
          "metadata": {},
          "execution_count": 92
        }
      ]
    },
    {
      "cell_type": "code",
      "source": [
        "dataloader = DataLoader(dataset, batch_size=32, shuffle=True)"
      ],
      "metadata": {
        "id": "M-DAWmo8MEzr"
      },
      "execution_count": null,
      "outputs": []
    },
    {
      "cell_type": "code",
      "source": [
        "# for input,output in  dataloader:\n",
        "#   print(input, output)"
      ],
      "metadata": {
        "id": "EiJaTh6eML1p"
      },
      "execution_count": null,
      "outputs": []
    },
    {
      "cell_type": "code",
      "source": [
        "class LSTMModel(nn.Module):\n",
        "  def __init__(self, vocab_size):\n",
        "    super().__init__()\n",
        "    self.embedding  = nn.Embedding(vocab_size, 100)\n",
        "    self.lstm = nn.LSTM(100, 150, batch_first=True)\n",
        "    self.fc = nn.Linear(150, vocab_size)\n",
        "\n",
        "  def forward(self, x):\n",
        "    embedded = self.embedding(x)\n",
        "    intermediate_hidden_state , (final_hidden_state, final_cell_state) = self.lstm(embedded)\n",
        "    final = self.fc(final_hidden_state[-1])\n",
        "    return final"
      ],
      "metadata": {
        "id": "hbMaM3FYMUid"
      },
      "execution_count": null,
      "outputs": []
    },
    {
      "cell_type": "code",
      "source": [
        "model = LSTMModel(len(vocab))"
      ],
      "metadata": {
        "id": "P8KARhK3PeLs"
      },
      "execution_count": null,
      "outputs": []
    },
    {
      "cell_type": "code",
      "source": [
        "device = torch.device(\"cuda\" if torch.cuda.is_available() else \"cpu\")\n",
        "device"
      ],
      "metadata": {
        "colab": {
          "base_uri": "https://localhost:8080/"
        },
        "id": "HjmfTWnDPhyM",
        "outputId": "5d4a0152-9806-4d1d-cdc4-059e78fe4b1d"
      },
      "execution_count": null,
      "outputs": [
        {
          "output_type": "execute_result",
          "data": {
            "text/plain": [
              "device(type='cpu')"
            ]
          },
          "metadata": {},
          "execution_count": 97
        }
      ]
    },
    {
      "cell_type": "code",
      "source": [
        "model.to(device)"
      ],
      "metadata": {
        "id": "mAYxh_3lPnIj",
        "colab": {
          "base_uri": "https://localhost:8080/"
        },
        "outputId": "ec342c37-486c-4474-c275-1ac4f6a9e6fe"
      },
      "execution_count": null,
      "outputs": [
        {
          "output_type": "execute_result",
          "data": {
            "text/plain": [
              "LSTMModel(\n",
              "  (embedding): Embedding(352, 100)\n",
              "  (lstm): LSTM(100, 150, batch_first=True)\n",
              "  (fc): Linear(in_features=150, out_features=352, bias=True)\n",
              ")"
            ]
          },
          "metadata": {},
          "execution_count": 98
        }
      ]
    },
    {
      "cell_type": "code",
      "source": [
        "epochs = 100\n",
        "learning_rate = 0.0005\n",
        "criterion = nn.CrossEntropyLoss()\n",
        "optimizer = optim.Adam(model.parameters(), lr=learning_rate)"
      ],
      "metadata": {
        "id": "KRzkq5_l3xFG"
      },
      "execution_count": null,
      "outputs": []
    },
    {
      "cell_type": "code",
      "source": [
        "for epoch in range(epochs):\n",
        "  total_loss = 0\n",
        "  for batch_x, batch_y in dataloader:\n",
        "    batch_x = batch_x.to(device)\n",
        "    batch_y = batch_y.to(device)\n",
        "    optimizer.zero_grad()\n",
        "    output = model(batch_x)\n",
        "    loss = criterion(output, batch_y)\n",
        "    loss.backward()\n",
        "    optimizer.step()\n",
        "    total_loss += loss.item()\n",
        "  print(f\"Epoch {epoch+1}/{epochs} Loss: {total_loss/len(dataloader)}\")"
      ],
      "metadata": {
        "colab": {
          "base_uri": "https://localhost:8080/"
        },
        "id": "Iwve4Rzz6HhN",
        "outputId": "e5e19a50-fc69-44c8-f392-2790c2faad48"
      },
      "execution_count": null,
      "outputs": [
        {
          "output_type": "stream",
          "name": "stdout",
          "text": [
            "Epoch 1/100 Loss: 4.4312410096864445\n",
            "Epoch 2/100 Loss: 2.212271300522057\n",
            "Epoch 3/100 Loss: 2.135016740979375\n",
            "Epoch 4/100 Loss: 2.118114709854126\n",
            "Epoch 5/100 Loss: 2.094580167048686\n",
            "Epoch 6/100 Loss: 2.0761488160571537\n",
            "Epoch 7/100 Loss: 2.0674194806330912\n",
            "Epoch 8/100 Loss: 2.059419786607897\n",
            "Epoch 9/100 Loss: 2.0429481944522343\n",
            "Epoch 10/100 Loss: 2.0402511164948747\n",
            "Epoch 11/100 Loss: 2.041203821027601\n",
            "Epoch 12/100 Loss: 2.0234766328656995\n",
            "Epoch 13/100 Loss: 2.018721870473913\n",
            "Epoch 14/100 Loss: 2.013975053220182\n",
            "Epoch 15/100 Loss: 2.01062257225449\n",
            "Epoch 16/100 Loss: 2.00492444876078\n",
            "Epoch 17/100 Loss: 1.9956144835497882\n",
            "Epoch 18/100 Loss: 1.9923703412751894\n",
            "Epoch 19/100 Loss: 1.9828245349832483\n",
            "Epoch 20/100 Loss: 1.9821402124456458\n",
            "Epoch 21/100 Loss: 1.9737553370965493\n",
            "Epoch 22/100 Loss: 1.970127592215667\n",
            "Epoch 23/100 Loss: 1.9680510566041276\n",
            "Epoch 24/100 Loss: 1.955293977582777\n",
            "Epoch 25/100 Loss: 1.9526889710812956\n",
            "Epoch 26/100 Loss: 1.9513291410497717\n",
            "Epoch 27/100 Loss: 1.9435767289754506\n",
            "Epoch 28/100 Loss: 1.9370496111947137\n",
            "Epoch 29/100 Loss: 1.9321608575614724\n",
            "Epoch 30/100 Loss: 1.924252165330423\n",
            "Epoch 31/100 Loss: 1.9177586259068669\n",
            "Epoch 32/100 Loss: 1.9141963720321655\n",
            "Epoch 33/100 Loss: 1.9108007147505477\n",
            "Epoch 34/100 Loss: 1.9013855876149357\n",
            "Epoch 35/100 Loss: 1.8921283547942702\n",
            "Epoch 36/100 Loss: 1.8947454400964685\n",
            "Epoch 37/100 Loss: 1.8828947479660447\n",
            "Epoch 38/100 Loss: 1.8780653605589996\n",
            "Epoch 39/100 Loss: 1.8671800059241217\n",
            "Epoch 40/100 Loss: 1.865285164601094\n",
            "Epoch 41/100 Loss: 1.8539337564159084\n",
            "Epoch 42/100 Loss: 1.8459544987291903\n",
            "Epoch 43/100 Loss: 1.8403223301913287\n",
            "Epoch 44/100 Loss: 1.8309967388977875\n",
            "Epoch 45/100 Loss: 1.8176607956757416\n",
            "Epoch 46/100 Loss: 1.8116157989244204\n",
            "Epoch 47/100 Loss: 1.798967116587871\n",
            "Epoch 48/100 Loss: 1.7861530039761517\n",
            "Epoch 49/100 Loss: 1.780919335983895\n",
            "Epoch 50/100 Loss: 1.7690585722794403\n",
            "Epoch 51/100 Loss: 1.7552340836138338\n",
            "Epoch 52/100 Loss: 1.7463303901053764\n",
            "Epoch 53/100 Loss: 1.7339118686882224\n",
            "Epoch 54/100 Loss: 1.720540977813102\n",
            "Epoch 55/100 Loss: 1.7115646439629633\n",
            "Epoch 56/100 Loss: 1.696513962101292\n",
            "Epoch 57/100 Loss: 1.69043814169394\n",
            "Epoch 58/100 Loss: 1.6740088913891766\n",
            "Epoch 59/100 Loss: 1.661319748775379\n",
            "Epoch 60/100 Loss: 1.6461715601586007\n",
            "Epoch 61/100 Loss: 1.6298880641524855\n",
            "Epoch 62/100 Loss: 1.6182533277047646\n",
            "Epoch 63/100 Loss: 1.5990176329741608\n",
            "Epoch 64/100 Loss: 1.5904767932118595\n",
            "Epoch 65/100 Loss: 1.5698487210918117\n",
            "Epoch 66/100 Loss: 1.5544591691042926\n",
            "Epoch 67/100 Loss: 1.5437050091253746\n",
            "Epoch 68/100 Loss: 1.5280066051998653\n",
            "Epoch 69/100 Loss: 1.5130151832425915\n",
            "Epoch 70/100 Loss: 1.4957271298846684\n",
            "Epoch 71/100 Loss: 1.4765421055458687\n",
            "Epoch 72/100 Loss: 1.4661571174054533\n",
            "Epoch 73/100 Loss: 1.4443198120271838\n",
            "Epoch 74/100 Loss: 1.4246307675902907\n",
            "Epoch 75/100 Loss: 1.4090518210385297\n",
            "Epoch 76/100 Loss: 1.3910350509592004\n",
            "Epoch 77/100 Loss: 1.3774014679161277\n",
            "Epoch 78/100 Loss: 1.3621585079141565\n",
            "Epoch 79/100 Loss: 1.3447631661956374\n",
            "Epoch 80/100 Loss: 1.317301473102054\n",
            "Epoch 81/100 Loss: 1.2979930365407788\n",
            "Epoch 82/100 Loss: 1.2829984587592047\n",
            "Epoch 83/100 Loss: 1.2642210158141884\n",
            "Epoch 84/100 Loss: 1.2532813726244747\n",
            "Epoch 85/100 Loss: 1.2369315608127698\n",
            "Epoch 86/100 Loss: 1.219624237434284\n",
            "Epoch 87/100 Loss: 1.2092029613417548\n",
            "Epoch 88/100 Loss: 1.181247223067928\n",
            "Epoch 89/100 Loss: 1.1607972447936599\n",
            "Epoch 90/100 Loss: 1.150842397599607\n",
            "Epoch 91/100 Loss: 1.1286071571143899\n",
            "Epoch 92/100 Loss: 1.1098140010962616\n",
            "Epoch 93/100 Loss: 1.0998106260557432\n",
            "Epoch 94/100 Loss: 1.0764081333134625\n",
            "Epoch 95/100 Loss: 1.0612596821140599\n",
            "Epoch 96/100 Loss: 1.0401247337057784\n",
            "Epoch 97/100 Loss: 1.030067097496342\n",
            "Epoch 98/100 Loss: 1.0126986696913436\n",
            "Epoch 99/100 Loss: 0.9937204815245964\n",
            "Epoch 100/100 Loss: 0.9753738851160616\n"
          ]
        }
      ]
    },
    {
      "cell_type": "code",
      "source": [
        "def prediction(model,vocab,text):\n",
        "  # Tokenize\n",
        "  tokenized_text = word_tokenize(text.lower())\n",
        "  # text ->numerical _indices\n",
        "  numerical_text = text_to_indices(tokenized_text, vocab)\n",
        "  # Padding\n",
        "  padding_text = torch.tensor([0] * (56 - len(numerical_text))  + numerical_text)\n",
        "  padding_text = padding_text.unsqueeze(0)\n",
        "  # Send to mdoel\n",
        "  output = model(padding_text)\n",
        "  # predicted index\n",
        "  value , index = torch.max(output, 1)\n",
        "  # merge with text\n",
        "  return text + \" \" + list(vocab.keys())[index]\n"
      ],
      "metadata": {
        "id": "KHzHMOBO6-z2"
      },
      "execution_count": null,
      "outputs": []
    },
    {
      "cell_type": "code",
      "source": [
        "input_text = \"I am living outside India and I am not able\"\n",
        "num_token =10\n",
        "for i in range(num_token):\n",
        "  output = prediction(model, vocab,input_text)\n",
        "  print(output)\n",
        "  input_text = output"
      ],
      "metadata": {
        "colab": {
          "base_uri": "https://localhost:8080/"
        },
        "id": "DTXba1__LXw0",
        "outputId": "301c2c8b-cc7d-469c-edc3-d1b95b182f27"
      },
      "execution_count": null,
      "outputs": [
        {
          "output_type": "stream",
          "name": "stdout",
          "text": [
            "I am living outside India and I am not able the\n",
            "I am living outside India and I am not able the fee\n",
            "I am living outside India and I am not able the fee fee\n",
            "I am living outside India and I am not able the fee fee what\n",
            "I am living outside India and I am not able the fee fee what the\n",
            "I am living outside India and I am not able the fee fee what the fee\n",
            "I am living outside India and I am not able the fee fee what the fee fee\n",
            "I am living outside India and I am not able the fee fee what the fee fee the\n",
            "I am living outside India and I am not able the fee fee what the fee fee the the\n",
            "I am living outside India and I am not able the fee fee what the fee fee the the the\n"
          ]
        }
      ]
    },
    {
      "cell_type": "code",
      "source": [],
      "metadata": {
        "id": "eYmZyL0RhmXW"
      },
      "execution_count": null,
      "outputs": []
    }
  ]
}