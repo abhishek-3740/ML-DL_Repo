{
  "nbformat": 4,
  "nbformat_minor": 0,
  "metadata": {
    "colab": {
      "provenance": [],
      "gpuType": "T4"
    },
    "kernelspec": {
      "name": "python3",
      "display_name": "Python 3"
    },
    "language_info": {
      "name": "python"
    },
    "accelerator": "GPU"
  },
  "cells": [
    {
      "cell_type": "code",
      "source": [
        "import numpy as np\n",
        "import torch\n",
        "import torch.nn as nn\n",
        "import torch.optim as optim\n",
        "import matplotlib.pyplot as plt\n",
        "from matplotlib.pyplot import figure\n",
        "from tqdm import tqdm\n",
        "from torchvision.utils import make_grid\n",
        "import torchvision.transforms as transforms\n",
        "from torchvision import datasets"
      ],
      "metadata": {
        "id": "XWuseG_x6GGQ"
      },
      "execution_count": 14,
      "outputs": []
    },
    {
      "cell_type": "code",
      "source": [
        "class Generator(nn.Module):\n",
        "    def __init__(self, img_shape, latent_dim):\n",
        "        super(Generator, self).__init__()\n",
        "        self.img_shape = img_shape\n",
        "\n",
        "        self.model = nn.Sequential(\n",
        "            *self._block(latent_dim, 128, normalize=False),\n",
        "            *self._block(128, 256),\n",
        "            *self._block(256, 512),\n",
        "            *self._block(512, 1024),\n",
        "            nn.Linear(1024, int(np.prod(img_shape))),\n",
        "            nn.Tanh()\n",
        "        )\n",
        "\n",
        "    def _block(self, in_features, out_features, normalize=True):\n",
        "        layers = [nn.Linear(in_features, out_features)]\n",
        "        if normalize:\n",
        "            layers.append(nn.BatchNorm1d(out_features, 0.8))\n",
        "        layers.append(nn.LeakyReLU(0.2, inplace=True))\n",
        "        return layers\n",
        "\n",
        "    def forward(self, z):\n",
        "        img = self.model(z)\n",
        "        img = img.view(img.shape[0], *self.img_shape)\n",
        "        return img\n"
      ],
      "metadata": {
        "id": "ue8NIzu_6J9U"
      },
      "execution_count": 15,
      "outputs": []
    },
    {
      "cell_type": "code",
      "source": [
        "class Critic(nn.Module):\n",
        "    def __init__(self, img_shape):\n",
        "        super(Critic, self).__init__()\n",
        "        self.model = nn.Sequential(\n",
        "            nn.Linear(int(np.prod(img_shape)), 512),\n",
        "            nn.LeakyReLU(0.2, inplace=True),\n",
        "            nn.Linear(512, 256),\n",
        "            nn.LeakyReLU(0.2, inplace=True),\n",
        "            nn.Linear(256, 1),\n",
        "        )\n",
        "\n",
        "    def forward(self, z):\n",
        "        img_flat = z.view(z.shape[0], -1)\n",
        "        validity = self.model(img_flat)\n",
        "        return validity\n"
      ],
      "metadata": {
        "id": "EARezffO6MZm"
      },
      "execution_count": 16,
      "outputs": []
    },
    {
      "cell_type": "code",
      "source": [
        "def weight_init_normal(m):\n",
        "    classname = m.__class__.__name__\n",
        "    if classname.find(\"Conv\") != -1:\n",
        "        torch.nn.init.normal_(m.weight.data, 0.0, 0.02)\n",
        "    elif classname.find(\"BatchNorm\") != -1:\n",
        "        torch.nn.init.normal_(m.weight.data, 1.0, 0.02)\n",
        "        torch.nn.init.constant_(m.bias.data, 0.0)"
      ],
      "metadata": {
        "id": "LWzYhF6-6OM7"
      },
      "execution_count": 17,
      "outputs": []
    },
    {
      "cell_type": "code",
      "source": [
        "def to_img(x):\n",
        "    x = x.clamp(0, 1)\n",
        "    return x\n"
      ],
      "metadata": {
        "id": "7k2UNoxV6QUp"
      },
      "execution_count": 18,
      "outputs": []
    },
    {
      "cell_type": "code",
      "source": [
        "class Hyperparameters:\n",
        "    n_epochs = 70\n",
        "    batch_size = 64\n",
        "    lr = 0.00005\n",
        "    latent_dim = 100\n",
        "    img_size = 32\n",
        "    channels = 1\n",
        "    n_critic = 5\n",
        "    clip_value = 0.01\n",
        "    sample_interval = 400"
      ],
      "metadata": {
        "id": "CEdCxDHV6Sux"
      },
      "execution_count": 19,
      "outputs": []
    },
    {
      "cell_type": "code",
      "source": [
        "hp = Hyperparameters()"
      ],
      "metadata": {
        "id": "HCifOQrq6UYf"
      },
      "execution_count": 20,
      "outputs": []
    },
    {
      "cell_type": "code",
      "source": [
        "cuda = torch.cuda.is_available()\n",
        "device = torch.device('cuda' if cuda else 'cpu')\n",
        "print(f\"Using device: {device}\")"
      ],
      "metadata": {
        "colab": {
          "base_uri": "https://localhost:8080/"
        },
        "id": "cRjmPi1G6XDW",
        "outputId": "4a2898ff-ad31-4bba-ab5b-d13e998cf3a3"
      },
      "execution_count": 21,
      "outputs": [
        {
          "output_type": "stream",
          "name": "stdout",
          "text": [
            "Using device: cuda\n"
          ]
        }
      ]
    },
    {
      "cell_type": "code",
      "source": [
        "root_path = \"./data\"  # Changed to relative path"
      ],
      "metadata": {
        "id": "KhJeZr5i6bWn"
      },
      "execution_count": 22,
      "outputs": []
    },
    {
      "cell_type": "code",
      "source": [
        "train_dataloader = torch.utils.data.DataLoader(\n",
        "    datasets.FashionMNIST(\n",
        "        root_path,\n",
        "        train=True,\n",
        "        download=True,\n",
        "        transform=transforms.Compose([\n",
        "            transforms.Resize(hp.img_size),\n",
        "            transforms.ToTensor(),\n",
        "            transforms.Normalize([0.5], [0.5]),\n",
        "        ]),\n",
        "    ),\n",
        "    batch_size=hp.batch_size,\n",
        "    shuffle=True,\n",
        ")"
      ],
      "metadata": {
        "id": "JgKfSZfX6dej"
      },
      "execution_count": 23,
      "outputs": []
    },
    {
      "cell_type": "code",
      "source": [
        "# Initialize models\n",
        "img_shape = (hp.channels, hp.img_size, hp.img_size)\n",
        "generator = Generator(img_shape, hp.latent_dim).to(device)\n",
        "critic = Critic(img_shape).to(device)\n",
        "\n",
        "# Apply weight initialization\n",
        "generator.apply(weight_init_normal)\n",
        "critic.apply(weight_init_normal)\n",
        "\n",
        "# Optimizers\n",
        "optimizer_G = torch.optim.RMSprop(generator.parameters(), lr=hp.lr)\n",
        "optimizer_C = torch.optim.RMSprop(critic.parameters(), lr=hp.lr)"
      ],
      "metadata": {
        "id": "tWaQcMVu6glQ"
      },
      "execution_count": 24,
      "outputs": []
    },
    {
      "cell_type": "code",
      "source": [
        "def train_wgan(generator, critic, train_dataloader, hp, device):\n",
        "    \"\"\"\n",
        "    WGAN training with weight clipping.\n",
        "\n",
        "    Key principles:\n",
        "    1. Critic loss: -E[D(real)] + E[D(fake)] (Wasserstein distance)\n",
        "    2. Generator loss: -E[D(fake)]\n",
        "    3. Clip critic weights to [-c, c] after each update\n",
        "    4. Train critic n_critic times per generator update\n",
        "    \"\"\"\n",
        "\n",
        "    generator.train()\n",
        "    critic.train()\n",
        "\n",
        "    for epoch in range(hp.n_epochs):\n",
        "        for i, (real_imgs, _) in enumerate(train_dataloader):\n",
        "\n",
        "            real_imgs = real_imgs.to(device)\n",
        "            batch_size = real_imgs.size(0)\n",
        "\n",
        "            for _ in range(hp.n_critic):\n",
        "                optimizer_C.zero_grad()\n",
        "\n",
        "                # Generate fake images\n",
        "                z = torch.randn(batch_size, hp.latent_dim).to(device)  # Fixed shape\n",
        "                fake_imgs = generator(z).detach()\n",
        "\n",
        "                # Critic loss: Wasserstein distance\n",
        "                critic_real = critic(real_imgs).mean()\n",
        "                critic_fake = critic(fake_imgs).mean()\n",
        "                critic_loss = -critic_real + critic_fake\n",
        "\n",
        "                critic_loss.backward()\n",
        "                optimizer_C.step()\n",
        "\n",
        "                # Weight clipping for Lipschitz constraint\n",
        "                for p in critic.parameters():\n",
        "                    p.data.clamp_(-hp.clip_value, hp.clip_value)\n",
        "\n",
        "\n",
        "            optimizer_G.zero_grad()\n",
        "\n",
        "            # Generate new fake images\n",
        "            z = torch.randn(batch_size, hp.latent_dim).to(device)  # Fixed shape\n",
        "            fake_imgs = generator(z)\n",
        "\n",
        "            # Generator loss\n",
        "            gen_loss = -critic(fake_imgs).mean()\n",
        "\n",
        "            gen_loss.backward()\n",
        "            optimizer_G.step()\n",
        "\n",
        "            batches_done = epoch * len(train_dataloader) + i\n",
        "\n",
        "            if batches_done % hp.sample_interval == 0:\n",
        "                print(f\"[Epoch {epoch}/{hp.n_epochs}] \"\n",
        "                      f\"[Batch {i}/{len(train_dataloader)}] \"\n",
        "                      f\"[D loss: {critic_loss.item():.4f}] \"\n",
        "                      f\"[G loss: {gen_loss.item():.4f}]\")"
      ],
      "metadata": {
        "id": "6JKmuNzr6jX7"
      },
      "execution_count": 25,
      "outputs": []
    },
    {
      "cell_type": "code",
      "source": [
        "if __name__ == \"__main__\":\n",
        "    print(\"Starting WGAN training...\")\n",
        "    train_wgan(generator, critic, train_dataloader, hp, device)\n",
        "    print(\"Training complete!\")\n",
        "\n",
        "    # Save models\n",
        "    torch.save(generator.state_dict(), 'wgan_generator.pth')\n",
        "    torch.save(critic.state_dict(), 'wgan_critic.pth')\n",
        "    print(\"Models saved!\")"
      ],
      "metadata": {
        "colab": {
          "base_uri": "https://localhost:8080/"
        },
        "id": "7AXxdY_Ofvsv",
        "outputId": "9625656a-f849-43ec-941e-6023cc54300d"
      },
      "execution_count": 26,
      "outputs": [
        {
          "output_type": "stream",
          "name": "stdout",
          "text": [
            "Starting WGAN training...\n",
            "[Epoch 0/70] [Batch 0/938] [D loss: -0.0781] [G loss: 0.0101]\n",
            "[Epoch 0/70] [Batch 400/938] [D loss: -2.2044] [G loss: -1.3602]\n",
            "[Epoch 0/70] [Batch 800/938] [D loss: -0.5006] [G loss: 0.0448]\n",
            "[Epoch 1/70] [Batch 262/938] [D loss: -0.6177] [G loss: -0.4035]\n",
            "[Epoch 1/70] [Batch 662/938] [D loss: -0.6743] [G loss: -0.5013]\n",
            "[Epoch 2/70] [Batch 124/938] [D loss: -0.4949] [G loss: -0.9867]\n",
            "[Epoch 2/70] [Batch 524/938] [D loss: -0.3217] [G loss: -0.5734]\n",
            "[Epoch 2/70] [Batch 924/938] [D loss: -0.3498] [G loss: -0.6564]\n",
            "[Epoch 3/70] [Batch 386/938] [D loss: -0.3201] [G loss: -0.8792]\n",
            "[Epoch 3/70] [Batch 786/938] [D loss: -0.4359] [G loss: -0.0231]\n",
            "[Epoch 4/70] [Batch 248/938] [D loss: -0.3578] [G loss: -0.8756]\n",
            "[Epoch 4/70] [Batch 648/938] [D loss: -0.4734] [G loss: -0.0857]\n",
            "[Epoch 5/70] [Batch 110/938] [D loss: -0.3538] [G loss: -0.7768]\n",
            "[Epoch 5/70] [Batch 510/938] [D loss: -0.4895] [G loss: -0.5423]\n",
            "[Epoch 5/70] [Batch 910/938] [D loss: -0.3852] [G loss: -0.6090]\n",
            "[Epoch 6/70] [Batch 372/938] [D loss: -0.2985] [G loss: -0.3525]\n",
            "[Epoch 6/70] [Batch 772/938] [D loss: -0.4156] [G loss: 0.0159]\n",
            "[Epoch 7/70] [Batch 234/938] [D loss: -0.3461] [G loss: 0.1230]\n",
            "[Epoch 7/70] [Batch 634/938] [D loss: -0.3217] [G loss: -0.3559]\n",
            "[Epoch 8/70] [Batch 96/938] [D loss: -0.3488] [G loss: -0.3953]\n",
            "[Epoch 8/70] [Batch 496/938] [D loss: -0.3498] [G loss: -0.2129]\n",
            "[Epoch 8/70] [Batch 896/938] [D loss: -0.2089] [G loss: -0.0051]\n",
            "[Epoch 9/70] [Batch 358/938] [D loss: -0.2948] [G loss: 0.2444]\n",
            "[Epoch 9/70] [Batch 758/938] [D loss: -0.2430] [G loss: -0.6156]\n",
            "[Epoch 10/70] [Batch 220/938] [D loss: -0.3875] [G loss: 0.2286]\n",
            "[Epoch 10/70] [Batch 620/938] [D loss: -0.2751] [G loss: 0.2203]\n",
            "[Epoch 11/70] [Batch 82/938] [D loss: -0.2929] [G loss: -0.6989]\n",
            "[Epoch 11/70] [Batch 482/938] [D loss: -0.3440] [G loss: -0.1234]\n",
            "[Epoch 11/70] [Batch 882/938] [D loss: -0.5242] [G loss: -0.2689]\n",
            "[Epoch 12/70] [Batch 344/938] [D loss: -0.3534] [G loss: 0.3559]\n",
            "[Epoch 12/70] [Batch 744/938] [D loss: -0.1323] [G loss: 0.1045]\n",
            "[Epoch 13/70] [Batch 206/938] [D loss: -0.3624] [G loss: -0.4592]\n",
            "[Epoch 13/70] [Batch 606/938] [D loss: -0.2606] [G loss: -0.6507]\n",
            "[Epoch 14/70] [Batch 68/938] [D loss: -0.2490] [G loss: -0.1461]\n",
            "[Epoch 14/70] [Batch 468/938] [D loss: -0.1374] [G loss: -0.4789]\n",
            "[Epoch 14/70] [Batch 868/938] [D loss: -0.1920] [G loss: -0.3142]\n",
            "[Epoch 15/70] [Batch 330/938] [D loss: -0.4380] [G loss: -0.0616]\n",
            "[Epoch 15/70] [Batch 730/938] [D loss: -0.2376] [G loss: -0.0642]\n",
            "[Epoch 16/70] [Batch 192/938] [D loss: -0.2505] [G loss: -0.3723]\n",
            "[Epoch 16/70] [Batch 592/938] [D loss: -0.3969] [G loss: 0.1431]\n",
            "[Epoch 17/70] [Batch 54/938] [D loss: -0.1989] [G loss: -0.4071]\n",
            "[Epoch 17/70] [Batch 454/938] [D loss: -0.1457] [G loss: -0.3037]\n",
            "[Epoch 17/70] [Batch 854/938] [D loss: -0.2863] [G loss: 0.0932]\n",
            "[Epoch 18/70] [Batch 316/938] [D loss: -0.2640] [G loss: -0.1517]\n",
            "[Epoch 18/70] [Batch 716/938] [D loss: -0.2184] [G loss: -0.2152]\n",
            "[Epoch 19/70] [Batch 178/938] [D loss: -0.2779] [G loss: 0.0526]\n",
            "[Epoch 19/70] [Batch 578/938] [D loss: -0.1255] [G loss: 0.0650]\n",
            "[Epoch 20/70] [Batch 40/938] [D loss: -0.1933] [G loss: -0.0032]\n",
            "[Epoch 20/70] [Batch 440/938] [D loss: -0.2346] [G loss: -0.2314]\n",
            "[Epoch 20/70] [Batch 840/938] [D loss: -0.2964] [G loss: 0.2292]\n",
            "[Epoch 21/70] [Batch 302/938] [D loss: -0.2097] [G loss: -0.3872]\n",
            "[Epoch 21/70] [Batch 702/938] [D loss: -0.3968] [G loss: -0.4878]\n",
            "[Epoch 22/70] [Batch 164/938] [D loss: -0.1821] [G loss: -0.3498]\n",
            "[Epoch 22/70] [Batch 564/938] [D loss: -0.2314] [G loss: 0.2632]\n",
            "[Epoch 23/70] [Batch 26/938] [D loss: -0.1472] [G loss: -0.2801]\n",
            "[Epoch 23/70] [Batch 426/938] [D loss: -0.2670] [G loss: -0.7768]\n",
            "[Epoch 23/70] [Batch 826/938] [D loss: -0.3143] [G loss: -0.3127]\n",
            "[Epoch 24/70] [Batch 288/938] [D loss: -0.3012] [G loss: 0.3868]\n",
            "[Epoch 24/70] [Batch 688/938] [D loss: -0.1907] [G loss: -0.5430]\n",
            "[Epoch 25/70] [Batch 150/938] [D loss: -0.3319] [G loss: -0.1454]\n",
            "[Epoch 25/70] [Batch 550/938] [D loss: -0.1611] [G loss: 0.1067]\n",
            "[Epoch 26/70] [Batch 12/938] [D loss: -0.1123] [G loss: -0.3697]\n",
            "[Epoch 26/70] [Batch 412/938] [D loss: -0.2338] [G loss: 0.2213]\n",
            "[Epoch 26/70] [Batch 812/938] [D loss: 0.0150] [G loss: -0.0734]\n",
            "[Epoch 27/70] [Batch 274/938] [D loss: -0.2230] [G loss: -0.1345]\n",
            "[Epoch 27/70] [Batch 674/938] [D loss: -0.3337] [G loss: -0.2052]\n",
            "[Epoch 28/70] [Batch 136/938] [D loss: -0.1934] [G loss: 0.2986]\n",
            "[Epoch 28/70] [Batch 536/938] [D loss: -0.1239] [G loss: -0.5387]\n",
            "[Epoch 28/70] [Batch 936/938] [D loss: -0.1791] [G loss: 0.3605]\n",
            "[Epoch 29/70] [Batch 398/938] [D loss: -0.2267] [G loss: -0.0320]\n",
            "[Epoch 29/70] [Batch 798/938] [D loss: -0.5424] [G loss: 0.0943]\n",
            "[Epoch 30/70] [Batch 260/938] [D loss: -0.1924] [G loss: 0.0135]\n",
            "[Epoch 30/70] [Batch 660/938] [D loss: -0.2715] [G loss: -0.4382]\n",
            "[Epoch 31/70] [Batch 122/938] [D loss: -0.2157] [G loss: 0.1058]\n",
            "[Epoch 31/70] [Batch 522/938] [D loss: -0.2326] [G loss: -0.1817]\n",
            "[Epoch 31/70] [Batch 922/938] [D loss: -0.1419] [G loss: 0.1927]\n",
            "[Epoch 32/70] [Batch 384/938] [D loss: -0.1030] [G loss: -0.2879]\n",
            "[Epoch 32/70] [Batch 784/938] [D loss: -0.1277] [G loss: -0.2361]\n",
            "[Epoch 33/70] [Batch 246/938] [D loss: -0.1451] [G loss: 0.0829]\n",
            "[Epoch 33/70] [Batch 646/938] [D loss: -0.1220] [G loss: 0.1314]\n",
            "[Epoch 34/70] [Batch 108/938] [D loss: -0.2034] [G loss: -0.8176]\n",
            "[Epoch 34/70] [Batch 508/938] [D loss: -0.0629] [G loss: -0.2251]\n",
            "[Epoch 34/70] [Batch 908/938] [D loss: -0.2057] [G loss: -0.1139]\n",
            "[Epoch 35/70] [Batch 370/938] [D loss: -0.1962] [G loss: -0.0671]\n",
            "[Epoch 35/70] [Batch 770/938] [D loss: -0.1091] [G loss: -0.0963]\n",
            "[Epoch 36/70] [Batch 232/938] [D loss: -0.1625] [G loss: 0.1452]\n",
            "[Epoch 36/70] [Batch 632/938] [D loss: -0.2022] [G loss: -0.0941]\n",
            "[Epoch 37/70] [Batch 94/938] [D loss: -0.2162] [G loss: -0.0962]\n",
            "[Epoch 37/70] [Batch 494/938] [D loss: -0.1186] [G loss: -0.0691]\n",
            "[Epoch 37/70] [Batch 894/938] [D loss: -0.1751] [G loss: -0.5102]\n",
            "[Epoch 38/70] [Batch 356/938] [D loss: -0.2007] [G loss: -0.2010]\n",
            "[Epoch 38/70] [Batch 756/938] [D loss: -0.2189] [G loss: 0.1955]\n",
            "[Epoch 39/70] [Batch 218/938] [D loss: -0.3274] [G loss: -0.0746]\n",
            "[Epoch 39/70] [Batch 618/938] [D loss: -0.3941] [G loss: -0.2675]\n",
            "[Epoch 40/70] [Batch 80/938] [D loss: -0.1216] [G loss: -0.0167]\n",
            "[Epoch 40/70] [Batch 480/938] [D loss: -0.2844] [G loss: -1.0317]\n",
            "[Epoch 40/70] [Batch 880/938] [D loss: -0.1108] [G loss: 0.3860]\n",
            "[Epoch 41/70] [Batch 342/938] [D loss: -0.0606] [G loss: -0.3038]\n",
            "[Epoch 41/70] [Batch 742/938] [D loss: 0.0401] [G loss: -1.4839]\n",
            "[Epoch 42/70] [Batch 204/938] [D loss: 0.0254] [G loss: 0.1319]\n",
            "[Epoch 42/70] [Batch 604/938] [D loss: -0.2038] [G loss: 0.0697]\n",
            "[Epoch 43/70] [Batch 66/938] [D loss: -0.1491] [G loss: 0.6183]\n",
            "[Epoch 43/70] [Batch 466/938] [D loss: -0.1607] [G loss: 0.0648]\n",
            "[Epoch 43/70] [Batch 866/938] [D loss: -0.2696] [G loss: -0.6856]\n",
            "[Epoch 44/70] [Batch 328/938] [D loss: -0.1243] [G loss: -0.7315]\n",
            "[Epoch 44/70] [Batch 728/938] [D loss: -0.0584] [G loss: 0.7107]\n",
            "[Epoch 45/70] [Batch 190/938] [D loss: -0.1152] [G loss: 0.2498]\n",
            "[Epoch 45/70] [Batch 590/938] [D loss: -0.1747] [G loss: -0.6768]\n",
            "[Epoch 46/70] [Batch 52/938] [D loss: -0.4750] [G loss: -0.4638]\n",
            "[Epoch 46/70] [Batch 452/938] [D loss: -0.2218] [G loss: -0.4505]\n",
            "[Epoch 46/70] [Batch 852/938] [D loss: 0.0044] [G loss: -0.7810]\n",
            "[Epoch 47/70] [Batch 314/938] [D loss: -0.1195] [G loss: -0.7236]\n",
            "[Epoch 47/70] [Batch 714/938] [D loss: 0.2021] [G loss: -0.2621]\n",
            "[Epoch 48/70] [Batch 176/938] [D loss: 0.0778] [G loss: -0.4183]\n",
            "[Epoch 48/70] [Batch 576/938] [D loss: -0.0885] [G loss: -1.2283]\n",
            "[Epoch 49/70] [Batch 38/938] [D loss: -0.2174] [G loss: -1.5009]\n",
            "[Epoch 49/70] [Batch 438/938] [D loss: 0.0193] [G loss: -0.2980]\n",
            "[Epoch 49/70] [Batch 838/938] [D loss: 0.0118] [G loss: -0.2627]\n",
            "[Epoch 50/70] [Batch 300/938] [D loss: -0.0235] [G loss: -2.2665]\n",
            "[Epoch 50/70] [Batch 700/938] [D loss: -0.0959] [G loss: -1.6126]\n",
            "[Epoch 51/70] [Batch 162/938] [D loss: -0.0116] [G loss: -0.8508]\n",
            "[Epoch 51/70] [Batch 562/938] [D loss: -0.6672] [G loss: -2.1935]\n",
            "[Epoch 52/70] [Batch 24/938] [D loss: -0.1402] [G loss: -1.4907]\n",
            "[Epoch 52/70] [Batch 424/938] [D loss: -0.1294] [G loss: -0.0486]\n",
            "[Epoch 52/70] [Batch 824/938] [D loss: -0.1927] [G loss: 0.8892]\n",
            "[Epoch 53/70] [Batch 286/938] [D loss: -0.1359] [G loss: -1.8938]\n",
            "[Epoch 53/70] [Batch 686/938] [D loss: -0.1328] [G loss: -0.5957]\n",
            "[Epoch 54/70] [Batch 148/938] [D loss: 0.0004] [G loss: -1.5759]\n",
            "[Epoch 54/70] [Batch 548/938] [D loss: -0.0441] [G loss: -0.7524]\n",
            "[Epoch 55/70] [Batch 10/938] [D loss: 0.0181] [G loss: 0.9347]\n",
            "[Epoch 55/70] [Batch 410/938] [D loss: -0.0667] [G loss: 1.5077]\n",
            "[Epoch 55/70] [Batch 810/938] [D loss: 0.0655] [G loss: 0.1604]\n",
            "[Epoch 56/70] [Batch 272/938] [D loss: 0.0065] [G loss: -1.4729]\n",
            "[Epoch 56/70] [Batch 672/938] [D loss: -0.2508] [G loss: 1.2162]\n",
            "[Epoch 57/70] [Batch 134/938] [D loss: -0.0827] [G loss: 0.1816]\n",
            "[Epoch 57/70] [Batch 534/938] [D loss: -0.0552] [G loss: 0.0049]\n",
            "[Epoch 57/70] [Batch 934/938] [D loss: -0.0864] [G loss: -1.3996]\n",
            "[Epoch 58/70] [Batch 396/938] [D loss: -0.7336] [G loss: -0.7165]\n",
            "[Epoch 58/70] [Batch 796/938] [D loss: -0.1161] [G loss: -1.5465]\n",
            "[Epoch 59/70] [Batch 258/938] [D loss: -0.0674] [G loss: 0.0104]\n",
            "[Epoch 59/70] [Batch 658/938] [D loss: 0.0873] [G loss: -0.7693]\n",
            "[Epoch 60/70] [Batch 120/938] [D loss: -0.0932] [G loss: -2.5705]\n",
            "[Epoch 60/70] [Batch 520/938] [D loss: -0.0877] [G loss: 0.1861]\n",
            "[Epoch 60/70] [Batch 920/938] [D loss: -0.1749] [G loss: -0.5198]\n",
            "[Epoch 61/70] [Batch 382/938] [D loss: -0.0523] [G loss: 1.1646]\n",
            "[Epoch 61/70] [Batch 782/938] [D loss: -0.1054] [G loss: -1.3483]\n",
            "[Epoch 62/70] [Batch 244/938] [D loss: -0.1040] [G loss: 0.0469]\n",
            "[Epoch 62/70] [Batch 644/938] [D loss: -0.4165] [G loss: -1.1844]\n",
            "[Epoch 63/70] [Batch 106/938] [D loss: -0.2082] [G loss: -1.2883]\n",
            "[Epoch 63/70] [Batch 506/938] [D loss: 0.1202] [G loss: 0.2714]\n",
            "[Epoch 63/70] [Batch 906/938] [D loss: -0.2867] [G loss: -0.6756]\n",
            "[Epoch 64/70] [Batch 368/938] [D loss: 0.0088] [G loss: -1.5739]\n",
            "[Epoch 64/70] [Batch 768/938] [D loss: -0.0519] [G loss: -0.5408]\n",
            "[Epoch 65/70] [Batch 230/938] [D loss: -0.0194] [G loss: 0.1359]\n",
            "[Epoch 65/70] [Batch 630/938] [D loss: -0.4214] [G loss: -0.6966]\n",
            "[Epoch 66/70] [Batch 92/938] [D loss: 0.0142] [G loss: -2.1758]\n",
            "[Epoch 66/70] [Batch 492/938] [D loss: -0.0416] [G loss: 1.3151]\n",
            "[Epoch 66/70] [Batch 892/938] [D loss: -0.2947] [G loss: -2.2698]\n",
            "[Epoch 67/70] [Batch 354/938] [D loss: -0.0825] [G loss: -0.2903]\n",
            "[Epoch 67/70] [Batch 754/938] [D loss: -0.2931] [G loss: -1.1164]\n",
            "[Epoch 68/70] [Batch 216/938] [D loss: -0.4700] [G loss: 0.1236]\n",
            "[Epoch 68/70] [Batch 616/938] [D loss: -0.1460] [G loss: -1.1197]\n",
            "[Epoch 69/70] [Batch 78/938] [D loss: -0.0966] [G loss: -1.0944]\n",
            "[Epoch 69/70] [Batch 478/938] [D loss: -0.1018] [G loss: 0.3746]\n",
            "[Epoch 69/70] [Batch 878/938] [D loss: 0.0116] [G loss: -1.8054]\n",
            "Training complete!\n",
            "Models saved!\n"
          ]
        }
      ]
    },
    {
      "cell_type": "markdown",
      "source": [
        "### Need More Training But GPU ........."
      ],
      "metadata": {
        "id": "DzQo_zPJDZig"
      }
    },
    {
      "cell_type": "code",
      "source": [
        "# Prediction:\n",
        "# img = torch.tensor(np.rand.random(8,3,64,64)) # Original incorrect line\n",
        "# Generate random noise as input to the generator\n",
        "z = torch.randn(8, hp.latent_dim).to(device)\n",
        "\n",
        "# Load the trained generator\n",
        "generator.load_state_dict(torch.load('wgan_generator.pth'))\n",
        "generator.eval() # Set the generator to evaluation mode\n",
        "\n",
        "# Generate fake images\n",
        "with torch.no_grad(): # Disable gradient calculation for inference\n",
        "    fake_images = generator(z).detach().cpu()\n",
        "\n",
        "# Display the generated images\n",
        "import matplotlib.pyplot as plt\n",
        "from torchvision.utils import make_grid\n",
        "\n",
        "# Denormalize the images\n",
        "fake_images = fake_images * 0.5 + 0.5\n",
        "\n",
        "# Make a grid of images\n",
        "grid = make_grid(fake_images, nrow=4, normalize=True)\n",
        "\n",
        "# Plot the grid\n",
        "plt.figure(figsize=(10,10))\n",
        "plt.imshow(grid.permute(1, 2, 0))\n",
        "plt.axis('off')\n",
        "plt.show()"
      ],
      "metadata": {
        "colab": {
          "base_uri": "https://localhost:8080/",
          "height": 430
        },
        "id": "gIL0Rr5QfwoB",
        "outputId": "5cfed3d4-7d4f-48ca-b2bb-5fce7ac95d3d"
      },
      "execution_count": 27,
      "outputs": [
        {
          "output_type": "display_data",
          "data": {
            "text/plain": [
              "<Figure size 1000x1000 with 1 Axes>"
            ],
            "image/png": "[encoded data removed]"
          },
          "metadata": {}
        }
      ]
    },
    {
      "cell_type": "code",
      "source": [
        "#"
      ],
      "metadata": {
        "id": "wnj_f3AKUksD"
      },
      "execution_count": 27,
      "outputs": []
    }
  ]
}